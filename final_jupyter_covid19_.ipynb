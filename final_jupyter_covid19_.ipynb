{
  "cells": [
    {
      "cell_type": "markdown",
      "metadata": {
        "id": "view-in-github",
        "colab_type": "text"
      },
      "source": [
        "<a href=\"https://colab.research.google.com/github/Kmohamedalie/Evolution-of-the-web/blob/main/final_jupyter_covid19_.ipynb\" target=\"_parent\"><img src=\"https://colab.research.google.com/assets/colab-badge.svg\" alt=\"Open In Colab\"/></a>"
      ]
    },
    {
      "cell_type": "markdown",
      "metadata": {
        "id": "JjBE9b068VHR"
      },
      "source": [
        "<a href=\"https://cognitiveclass.ai/?utm_medium=Exinfluencer&utm_source=Exinfluencer&utm_content=000026UJ&utm_term=10006555&utm_id=NA-SkillsNetwork-Channel-SkillsNetworkCoursesIBMDeveloperSkillsNetworkRP0101ENCoursera23911160-2021-01-01\">\n",
        "    <img src=\"https://cf-courses-data.s3.us.cloud-object-storage.appdomain.cloud/IBMDeveloperSkillsNetwork-RP0101EN-Coursera/v2/M1_R_Basics/images/IDSNlogo.png\" width=\"200\" align=\"center\">\n",
        "</a>\n"
      ]
    },
    {
      "cell_type": "markdown",
      "metadata": {
        "id": "v0xj-ETv8VHc"
      },
      "source": [
        "<h1>Analysis of Global COVID-19 Pandemic Data</h1>\n",
        "\n",
        "Estimated time needed: **90** minutes\n"
      ]
    },
    {
      "cell_type": "markdown",
      "metadata": {
        "id": "FLUGQs1-8VHd"
      },
      "source": [
        "## Overview:\n",
        "\n",
        "There are 10 tasks in this final project. All tasks will be graded by your peers who are also completing this assignment within the same session.\n",
        "\n",
        "You need to submit the following the screenshot for the code and output for each task for review.\n",
        "\n",
        "If you need to refresh your memories about specific coding details, you may refer to previous hands-on labs for code examples.\n"
      ]
    },
    {
      "cell_type": "code",
      "execution_count": 1,
      "metadata": {
        "colab": {
          "base_uri": "https://localhost:8080/"
        },
        "id": "m6caYFI48VHf",
        "outputId": "54fbfffe-a7f8-4205-fb4a-61082e1fd552"
      },
      "outputs": [
        {
          "output_type": "stream",
          "name": "stderr",
          "text": [
            "Loading required package: httr\n",
            "\n",
            "Loading required package: rvest\n",
            "\n"
          ]
        }
      ],
      "source": [
        "require(\"httr\")\n",
        "require(\"rvest\")\n",
        "\n",
        "library(httr)\n",
        "library(rvest)"
      ]
    },
    {
      "cell_type": "markdown",
      "metadata": {
        "id": "DhPx2j_A8VHo"
      },
      "source": [
        "Note: if you can import above libraries, please use install.packages() to install them first.\n"
      ]
    },
    {
      "cell_type": "markdown",
      "metadata": {
        "id": "ZfJ5hewZ8VHp"
      },
      "source": [
        "## TASK 1: Get a `COVID-19 pandemic` Wiki page using HTTP request\n"
      ]
    },
    {
      "cell_type": "markdown",
      "metadata": {
        "id": "iJoPLohL8VHp"
      },
      "source": [
        "First, let's write a function to use HTTP request to get a public COVID-19 Wiki page.\n",
        "\n",
        "Before you write the function, you can open this public page from this\n",
        "\n",
        "URL [https://en.wikipedia.org/w/index.php?title=Template\\:COVID-19\\_testing_by_country](https://en.wikipedia.org/w/index.php?utm_medium=Exinfluencer&utm_source=Exinfluencer&utm_content=000026UJ&utm_term=10006555&utm_id=NA-SkillsNetwork-Channel-SkillsNetworkCoursesIBMDeveloperSkillsNetworkRP0101ENCoursera23911160-2021-01-01&title=Template%3ACOVID-19\\_testing_by_country) using a web browser.\n",
        "\n",
        "The goal of task 1 is to get the html page using HTTP request (`httr` library)\n"
      ]
    },
    {
      "cell_type": "code",
      "execution_count": 2,
      "metadata": {
        "id": "f2WhoQTl8VHq"
      },
      "outputs": [],
      "source": [
        "\n",
        "get_wiki_covid19_page <- function() {\n",
        "    \n",
        "  # Our target COVID-19 wiki page URL is: https://en.wikipedia.org/w/index.php?title=Template:COVID-19_testing_by_country  \n",
        "  # Which has two parts: \n",
        "    # 1) base URL `https://en.wikipedia.org/w/index.php  \n",
        "    # 2) URL parameter: `title=Template:COVID-19_testing_by_country`, seperated by question mark ?\n",
        "    \n",
        "  # Wiki page base\n",
        "  wiki_base_url <- \"https://en.wikipedia.org/w/index.php\"\n",
        "  # You will need to create a List which has an element called `title` to specify which page you want to get from Wiki\n",
        "  # in our case, it will be `Template:COVID-19_testing_by_country`\n",
        " \n",
        "  # - Use the `GET` function in httr library with a `url` argument and a `query` arugment to get a HTTP response\n",
        "  url<-'https://en.wikipedia.org/w/index.php?title=Template:COVID-19_testing_by_country'\n",
        "  response<<-GET(wiki_base_url) \n",
        "  # Use the `return` function to return the response\n",
        "  return(response)\n",
        "}\n",
        "\n",
        "\n"
      ]
    },
    {
      "cell_type": "markdown",
      "metadata": {
        "id": "WVlAtihy8VHr"
      },
      "source": [
        "Call the `get_wiki_covid19_page` function to get a http response with the target html page\n"
      ]
    },
    {
      "cell_type": "code",
      "execution_count": 3,
      "metadata": {
        "colab": {
          "base_uri": "https://localhost:8080/",
          "height": 294
        },
        "id": "mZy46HlP8VHs",
        "outputId": "1f77016d-3455-45cb-e232-a0fd1dc78b65"
      },
      "outputs": [
        {
          "output_type": "display_data",
          "data": {
            "text/plain": [
              "Response [https://en.wikipedia.org/wiki/Main_Page]\n",
              "  Date: 2022-04-24 23:21\n",
              "  Status: 200\n",
              "  Content-Type: text/html; charset=UTF-8\n",
              "  Size: 83.7 kB\n",
              "<!DOCTYPE html>\n",
              "<html class=\"client-nojs\" lang=\"en\" dir=\"ltr\">\n",
              "<head>\n",
              "<meta charset=\"UTF-8\"/>\n",
              "<title>Wikipedia, the free encyclopedia</title>\n",
              "<script>document.documentElement.className=\"client-js\";RLCONF={\"wgBreakFrames...\n",
              "\"tags\":{\"status\":{\"levels\":1}}},\"wgVisualEditor\":{\"pageLanguageCode\":\"en\",\"pa...\n",
              "\"ready\",\"ext.uls.interlanguage\":\"ready\"};RLPAGEMODULES=[\"site\",\"mediawiki.pag...\n",
              "<script>(RLQ=window.RLQ||[]).push(function(){mw.loader.implement(\"user.option...\n",
              "<link rel=\"stylesheet\" href=\"/w/load.php?lang=en&amp;modules=ext.uls.interlan...\n",
              "..."
            ]
          },
          "metadata": {}
        }
      ],
      "source": [
        "# Call the get_wiki_covid19_page function and print the response\n",
        "get_wiki_covid19_page()"
      ]
    },
    {
      "cell_type": "markdown",
      "metadata": {
        "id": "37MwuPOO8VHu"
      },
      "source": [
        "## TASK 2: Extract COVID-19 testing data table from the wiki HTML page\n"
      ]
    },
    {
      "cell_type": "markdown",
      "metadata": {
        "id": "X78okp638VHu"
      },
      "source": [
        "On the COVID-19 testing wiki page, you should see a data table `<table>` node contains COVID-19 testing data by country on the page:\n",
        "\n",
        "<a href=\"https://cognitiveclass.ai/?utm_medium=Exinfluencer&utm_source=Exinfluencer&utm_content=000026UJ&utm_term=10006555&utm_id=NA-SkillsNetwork-Channel-SkillsNetworkCoursesIBMDeveloperSkillsNetworkRP0101ENCoursera23911160-2021-01-01\">\n",
        "    <img src=\"https://cf-courses-data.s3.us.cloud-object-storage.appdomain.cloud/IBMDeveloperSkillsNetwork-RP0101EN-Coursera/v2/M5_Final/images/covid-19-by-country.png\" width=\"400\" align=\"center\">\n",
        "</a>\n",
        "\n",
        "Note the numbers you actually see on your page may be different from above because it is still an on-going pandemic when creating this notebook.\n",
        "\n",
        "The goal of task 2 is to extract above data table and convert it into a data frame\n"
      ]
    },
    {
      "cell_type": "markdown",
      "metadata": {
        "id": "CgMpZJyY8VHw"
      },
      "source": [
        "Now use the `read_html` function in rvest library to get the root html node from response\n"
      ]
    },
    {
      "cell_type": "code",
      "execution_count": 4,
      "metadata": {
        "colab": {
          "base_uri": "https://localhost:8080/",
          "height": 86
        },
        "id": "ahFUtit58VHx",
        "outputId": "c1f86e41-ce20-4281-b819-6ca7a482fee6"
      },
      "outputs": [
        {
          "output_type": "display_data",
          "data": {
            "text/plain": [
              "{html_document}\n",
              "<html class=\"client-nojs\" lang=\"en\" dir=\"ltr\">\n",
              "[1] <head>\\n<meta http-equiv=\"Content-Type\" content=\"text/html; charset=UTF-8 ...\n",
              "[2] <body class=\"mediawiki ltr sitedir-ltr mw-hide-empty-elt ns-0 ns-subject  ..."
            ]
          },
          "metadata": {}
        }
      ],
      "source": [
        "# Get the root html node from the http response in task 1 \n",
        "simple_html <- response\n",
        "root_node <- read_html(simple_html)\n",
        "root_node"
      ]
    },
    {
      "cell_type": "markdown",
      "metadata": {
        "id": "xR8GJOWc8VHy"
      },
      "source": [
        "Get the first table in the HTML root node using `html_node` function\n"
      ]
    },
    {
      "cell_type": "code",
      "execution_count": 6,
      "metadata": {
        "id": "t-CU0T9u8VHz"
      },
      "outputs": [],
      "source": [
        "# Get the table node from the root html node\n",
        "root_node <- read_html(\"https://en.wikipedia.org/w/index.php?title=Template:COVID-19_testing_by_country\")\n",
        "table_node <- html_node(root_node,\".wikitable\") "
      ]
    },
    {
      "cell_type": "markdown",
      "metadata": {
        "id": "1xBqeR-Y8VH8"
      },
      "source": [
        "Read the table node as a data frame using `html_table` function\n"
      ]
    },
    {
      "cell_type": "code",
      "execution_count": 7,
      "metadata": {
        "scrolled": true,
        "id": "_xP-SHaM8VH9"
      },
      "outputs": [],
      "source": [
        "country.table <- html_table(table_node, convert=TRUE)\n",
        "#country.table"
      ]
    },
    {
      "cell_type": "markdown",
      "metadata": {
        "id": "zv9iOvL18VH-"
      },
      "source": [
        "## TASK 3: Pre-process and export the extracted data frame\n",
        "\n",
        "The goal of task 3 is to pre-process the extracted data frame from the previous step, and export it as a csv file\n"
      ]
    },
    {
      "cell_type": "markdown",
      "metadata": {
        "id": "CJY2ukhz8VH-"
      },
      "source": [
        "Let's get a summary of the data frame\n"
      ]
    },
    {
      "cell_type": "code",
      "execution_count": 8,
      "metadata": {
        "colab": {
          "base_uri": "https://localhost:8080/",
          "height": 286
        },
        "id": "_1DqLKzI8VIA",
        "outputId": "72547a2e-599d-4989-b55d-1ed3aedca37a"
      },
      "outputs": [
        {
          "output_type": "display_data",
          "data": {
            "text/html": [
              "<table class=\"dataframe\">\n",
              "<caption>A tibble: 6 × 9</caption>\n",
              "<thead>\n",
              "\t<tr><th scope=col>Country or region</th><th scope=col>Date[a]</th><th scope=col>Tested</th><th scope=col>Units[b]</th><th scope=col>Confirmed(cases)</th><th scope=col>Confirmed /tested,%</th><th scope=col>Tested /population,%</th><th scope=col>Confirmed /population,%</th><th scope=col>Ref.</th></tr>\n",
              "\t<tr><th scope=col>&lt;chr&gt;</th><th scope=col>&lt;chr&gt;</th><th scope=col>&lt;chr&gt;</th><th scope=col>&lt;chr&gt;</th><th scope=col>&lt;chr&gt;</th><th scope=col>&lt;chr&gt;</th><th scope=col>&lt;chr&gt;</th><th scope=col>&lt;chr&gt;</th><th scope=col>&lt;chr&gt;</th></tr>\n",
              "</thead>\n",
              "<tbody>\n",
              "\t<tr><td>Afghanistan        </td><td>17 Dec 2020</td><td>154,767</td><td>samples</td><td>49,621</td><td>32.1</td><td>0.40</td><td>0.13 </td><td>[1]   </td></tr>\n",
              "\t<tr><td>Albania            </td><td>18 Feb 2021</td><td>428,654</td><td>samples</td><td>96,838</td><td>22.6</td><td>15.0</td><td>3.4  </td><td>[2]   </td></tr>\n",
              "\t<tr><td>Algeria            </td><td>2 Nov 2020 </td><td>230,553</td><td>samples</td><td>58,574</td><td>25.4</td><td>0.53</td><td>0.13 </td><td>[3][4]</td></tr>\n",
              "\t<tr><td>Andorra            </td><td>23 Feb 2022</td><td>300,307</td><td>samples</td><td>37,958</td><td>12.6</td><td>387 </td><td>49.0 </td><td>[5]   </td></tr>\n",
              "\t<tr><td>Angola             </td><td>2 Feb 2021 </td><td>399,228</td><td>samples</td><td>20,981</td><td>5.3 </td><td>1.3 </td><td>0.067</td><td>[6]   </td></tr>\n",
              "\t<tr><td>Antigua and Barbuda</td><td>6 Mar 2021 </td><td>15,268 </td><td>samples</td><td>832   </td><td>5.4 </td><td>15.9</td><td>0.86 </td><td>[7]   </td></tr>\n",
              "</tbody>\n",
              "</table>\n"
            ],
            "text/markdown": "\nA tibble: 6 × 9\n\n| Country or region &lt;chr&gt; | Date[a] &lt;chr&gt; | Tested &lt;chr&gt; | Units[b] &lt;chr&gt; | Confirmed(cases) &lt;chr&gt; | Confirmed /tested,% &lt;chr&gt; | Tested /population,% &lt;chr&gt; | Confirmed /population,% &lt;chr&gt; | Ref. &lt;chr&gt; |\n|---|---|---|---|---|---|---|---|---|\n| Afghanistan         | 17 Dec 2020 | 154,767 | samples | 49,621 | 32.1 | 0.40 | 0.13  | [1]    |\n| Albania             | 18 Feb 2021 | 428,654 | samples | 96,838 | 22.6 | 15.0 | 3.4   | [2]    |\n| Algeria             | 2 Nov 2020  | 230,553 | samples | 58,574 | 25.4 | 0.53 | 0.13  | [3][4] |\n| Andorra             | 23 Feb 2022 | 300,307 | samples | 37,958 | 12.6 | 387  | 49.0  | [5]    |\n| Angola              | 2 Feb 2021  | 399,228 | samples | 20,981 | 5.3  | 1.3  | 0.067 | [6]    |\n| Antigua and Barbuda | 6 Mar 2021  | 15,268  | samples | 832    | 5.4  | 15.9 | 0.86  | [7]    |\n\n",
            "text/latex": "A tibble: 6 × 9\n\\begin{tabular}{lllllllll}\n Country or region & Date{[}a{]} & Tested & Units{[}b{]} & Confirmed(cases) & Confirmed /tested,\\% & Tested /population,\\% & Confirmed /population,\\% & Ref.\\\\\n <chr> & <chr> & <chr> & <chr> & <chr> & <chr> & <chr> & <chr> & <chr>\\\\\n\\hline\n\t Afghanistan         & 17 Dec 2020 & 154,767 & samples & 49,621 & 32.1 & 0.40 & 0.13  & {[}1{]}   \\\\\n\t Albania             & 18 Feb 2021 & 428,654 & samples & 96,838 & 22.6 & 15.0 & 3.4   & {[}2{]}   \\\\\n\t Algeria             & 2 Nov 2020  & 230,553 & samples & 58,574 & 25.4 & 0.53 & 0.13  & {[}3{]}{[}4{]}\\\\\n\t Andorra             & 23 Feb 2022 & 300,307 & samples & 37,958 & 12.6 & 387  & 49.0  & {[}5{]}   \\\\\n\t Angola              & 2 Feb 2021  & 399,228 & samples & 20,981 & 5.3  & 1.3  & 0.067 & {[}6{]}   \\\\\n\t Antigua and Barbuda & 6 Mar 2021  & 15,268  & samples & 832    & 5.4  & 15.9 & 0.86  & {[}7{]}   \\\\\n\\end{tabular}\n",
            "text/plain": [
              "  Country or region   Date[a]     Tested  Units[b] Confirmed(cases)\n",
              "1 Afghanistan         17 Dec 2020 154,767 samples  49,621          \n",
              "2 Albania             18 Feb 2021 428,654 samples  96,838          \n",
              "3 Algeria             2 Nov 2020  230,553 samples  58,574          \n",
              "4 Andorra             23 Feb 2022 300,307 samples  37,958          \n",
              "5 Angola              2 Feb 2021  399,228 samples  20,981          \n",
              "6 Antigua and Barbuda 6 Mar 2021  15,268  samples  832             \n",
              "  Confirmed /tested,% Tested /population,% Confirmed /population,% Ref.  \n",
              "1 32.1                0.40                 0.13                    [1]   \n",
              "2 22.6                15.0                 3.4                     [2]   \n",
              "3 25.4                0.53                 0.13                    [3][4]\n",
              "4 12.6                387                  49.0                    [5]   \n",
              "5 5.3                 1.3                  0.067                   [6]   \n",
              "6 5.4                 15.9                 0.86                    [7]   "
            ]
          },
          "metadata": {}
        }
      ],
      "source": [
        "# Print the summary of the data frame\n",
        "head(country.table)\n",
        "write.csv(country.table, \"covid_dataframe.csv\")"
      ]
    },
    {
      "cell_type": "markdown",
      "metadata": {
        "id": "_QW6VOtP8VIB"
      },
      "source": [
        "As you can see from the summary, the columns names are little bit different to understand and some column data types are not correct. For example, the `Tested` column shows as `character`.\n",
        "\n",
        "As such, the data frame read from HTML table will need some pre-processing such as removing irrelvant columns, renaming columns, and convert columns into proper data types.\n"
      ]
    },
    {
      "cell_type": "markdown",
      "metadata": {
        "id": "IF274SjJ8VIB"
      },
      "source": [
        "We have prepared a pre-processing function for you to conver the data frame but you can also try to write one by yourself\n"
      ]
    },
    {
      "cell_type": "code",
      "execution_count": 9,
      "metadata": {
        "id": "w7Sa19ZF8VIC"
      },
      "outputs": [],
      "source": [
        "preprocess_covid_data_frame <- function(data_frame) {\n",
        "    \n",
        "    shape <- dim(data_frame)\n",
        "\n",
        "    # Remove the World row\n",
        "    data_frame<-data_frame[!(data_frame$`Country or region`==\"World\"),]\n",
        "    # Remove the last row\n",
        "    data_frame <- data_frame[1:172, ]\n",
        "    \n",
        "    # We dont need the Units and Ref columns, so can be removed\n",
        "    data_frame[\"Ref.\"] <- NULL\n",
        "    data_frame[\"Units[b]\"] <- NULL\n",
        "    \n",
        "    # Renaming the columns\n",
        "    names(data_frame) <- c(\"country\", \"date\", \"tested\", \"confirmed\", \"confirmed.tested.ratio\", \"tested.population.ratio\", \"confirmed.population.ratio\")\n",
        "    \n",
        "    # Convert column data types\n",
        "    data_frame$country <- as.factor(data_frame$country)\n",
        "    data_frame$date <- as.factor(data_frame$date)\n",
        "    data_frame$tested <- as.numeric(gsub(\",\",\"\",data_frame$tested))\n",
        "    data_frame$confirmed <- as.numeric(gsub(\",\",\"\",data_frame$confirmed))\n",
        "    data_frame$'confirmed.tested.ratio' <- as.numeric(gsub(\",\",\"\",data_frame$`confirmed.tested.ratio`))\n",
        "    data_frame$'tested.population.ratio' <- as.numeric(gsub(\",\",\"\",data_frame$`tested.population.ratio`))\n",
        "    data_frame$'confirmed.population.ratio' <- as.numeric(gsub(\",\",\"\",data_frame$`confirmed.population.ratio`))\n",
        "    \n",
        "    return(data_frame)\n",
        "}\n",
        "\n"
      ]
    },
    {
      "cell_type": "markdown",
      "metadata": {
        "id": "jtDH8u8O8VID"
      },
      "source": [
        "Call the `preprocess_covid_data_frame` function\n"
      ]
    },
    {
      "cell_type": "code",
      "execution_count": 10,
      "metadata": {
        "id": "hyTkRWMX8VIE"
      },
      "outputs": [],
      "source": [
        "# call `preprocess_covid_data_frame` function and assign it to a new data frame\n",
        "covid_data_frame = preprocess_covid_data_frame(country.table)\n"
      ]
    },
    {
      "cell_type": "markdown",
      "metadata": {
        "id": "hCTTlUfp8VIF"
      },
      "source": [
        "Get the summary of the processed data frame again\n"
      ]
    },
    {
      "cell_type": "code",
      "execution_count": 11,
      "metadata": {
        "collapsed": true,
        "colab": {
          "base_uri": "https://localhost:8080/",
          "height": 286
        },
        "id": "jUpdKAHX8VIJ",
        "outputId": "88f44bd0-3b20-4ae7-c3d1-5b9d47feb25d"
      },
      "outputs": [
        {
          "output_type": "display_data",
          "data": {
            "text/html": [
              "<table class=\"dataframe\">\n",
              "<caption>A tibble: 6 × 7</caption>\n",
              "<thead>\n",
              "\t<tr><th scope=col>country</th><th scope=col>date</th><th scope=col>tested</th><th scope=col>confirmed</th><th scope=col>confirmed.tested.ratio</th><th scope=col>tested.population.ratio</th><th scope=col>confirmed.population.ratio</th></tr>\n",
              "\t<tr><th scope=col>&lt;fct&gt;</th><th scope=col>&lt;fct&gt;</th><th scope=col>&lt;dbl&gt;</th><th scope=col>&lt;dbl&gt;</th><th scope=col>&lt;dbl&gt;</th><th scope=col>&lt;dbl&gt;</th><th scope=col>&lt;dbl&gt;</th></tr>\n",
              "</thead>\n",
              "<tbody>\n",
              "\t<tr><td>Afghanistan        </td><td>17 Dec 2020</td><td>154767</td><td>49621</td><td>32.1</td><td>  0.40</td><td> 0.130</td></tr>\n",
              "\t<tr><td>Albania            </td><td>18 Feb 2021</td><td>428654</td><td>96838</td><td>22.6</td><td> 15.00</td><td> 3.400</td></tr>\n",
              "\t<tr><td>Algeria            </td><td>2 Nov 2020 </td><td>230553</td><td>58574</td><td>25.4</td><td>  0.53</td><td> 0.130</td></tr>\n",
              "\t<tr><td>Andorra            </td><td>23 Feb 2022</td><td>300307</td><td>37958</td><td>12.6</td><td>387.00</td><td>49.000</td></tr>\n",
              "\t<tr><td>Angola             </td><td>2 Feb 2021 </td><td>399228</td><td>20981</td><td> 5.3</td><td>  1.30</td><td> 0.067</td></tr>\n",
              "\t<tr><td>Antigua and Barbuda</td><td>6 Mar 2021 </td><td> 15268</td><td>  832</td><td> 5.4</td><td> 15.90</td><td> 0.860</td></tr>\n",
              "</tbody>\n",
              "</table>\n"
            ],
            "text/markdown": "\nA tibble: 6 × 7\n\n| country &lt;fct&gt; | date &lt;fct&gt; | tested &lt;dbl&gt; | confirmed &lt;dbl&gt; | confirmed.tested.ratio &lt;dbl&gt; | tested.population.ratio &lt;dbl&gt; | confirmed.population.ratio &lt;dbl&gt; |\n|---|---|---|---|---|---|---|\n| Afghanistan         | 17 Dec 2020 | 154767 | 49621 | 32.1 |   0.40 |  0.130 |\n| Albania             | 18 Feb 2021 | 428654 | 96838 | 22.6 |  15.00 |  3.400 |\n| Algeria             | 2 Nov 2020  | 230553 | 58574 | 25.4 |   0.53 |  0.130 |\n| Andorra             | 23 Feb 2022 | 300307 | 37958 | 12.6 | 387.00 | 49.000 |\n| Angola              | 2 Feb 2021  | 399228 | 20981 |  5.3 |   1.30 |  0.067 |\n| Antigua and Barbuda | 6 Mar 2021  |  15268 |   832 |  5.4 |  15.90 |  0.860 |\n\n",
            "text/latex": "A tibble: 6 × 7\n\\begin{tabular}{lllllll}\n country & date & tested & confirmed & confirmed.tested.ratio & tested.population.ratio & confirmed.population.ratio\\\\\n <fct> & <fct> & <dbl> & <dbl> & <dbl> & <dbl> & <dbl>\\\\\n\\hline\n\t Afghanistan         & 17 Dec 2020 & 154767 & 49621 & 32.1 &   0.40 &  0.130\\\\\n\t Albania             & 18 Feb 2021 & 428654 & 96838 & 22.6 &  15.00 &  3.400\\\\\n\t Algeria             & 2 Nov 2020  & 230553 & 58574 & 25.4 &   0.53 &  0.130\\\\\n\t Andorra             & 23 Feb 2022 & 300307 & 37958 & 12.6 & 387.00 & 49.000\\\\\n\t Angola              & 2 Feb 2021  & 399228 & 20981 &  5.3 &   1.30 &  0.067\\\\\n\t Antigua and Barbuda & 6 Mar 2021  &  15268 &   832 &  5.4 &  15.90 &  0.860\\\\\n\\end{tabular}\n",
            "text/plain": [
              "  country             date        tested confirmed confirmed.tested.ratio\n",
              "1 Afghanistan         17 Dec 2020 154767 49621     32.1                  \n",
              "2 Albania             18 Feb 2021 428654 96838     22.6                  \n",
              "3 Algeria             2 Nov 2020  230553 58574     25.4                  \n",
              "4 Andorra             23 Feb 2022 300307 37958     12.6                  \n",
              "5 Angola              2 Feb 2021  399228 20981      5.3                  \n",
              "6 Antigua and Barbuda 6 Mar 2021   15268   832      5.4                  \n",
              "  tested.population.ratio confirmed.population.ratio\n",
              "1   0.40                   0.130                    \n",
              "2  15.00                   3.400                    \n",
              "3   0.53                   0.130                    \n",
              "4 387.00                  49.000                    \n",
              "5   1.30                   0.067                    \n",
              "6  15.90                   0.860                    "
            ]
          },
          "metadata": {}
        }
      ],
      "source": [
        "# Print the summary of the processed data frame again\n",
        "head(covid_data_frame)"
      ]
    },
    {
      "cell_type": "code",
      "execution_count": null,
      "metadata": {
        "id": "QArZvEmH8VIK",
        "outputId": "eab4dcb5-b2dd-4eff-b5ae-d826da892a26"
      },
      "outputs": [
        {
          "data": {
            "text/html": [
              "<style>\n",
              ".list-inline {list-style: none; margin:0; padding: 0}\n",
              ".list-inline>li {display: inline-block}\n",
              ".list-inline>li:not(:last-child)::after {content: \"\\00b7\"; padding: 0 .5ex}\n",
              "</style>\n",
              "<ol class=list-inline><li>'country'</li><li>'date'</li><li>'tested'</li><li>'confirmed'</li><li>'confirmed.tested.ratio'</li><li>'tested.population.ratio'</li><li>'confirmed.population.ratio'</li></ol>\n"
            ],
            "text/latex": [
              "\\begin{enumerate*}\n",
              "\\item 'country'\n",
              "\\item 'date'\n",
              "\\item 'tested'\n",
              "\\item 'confirmed'\n",
              "\\item 'confirmed.tested.ratio'\n",
              "\\item 'tested.population.ratio'\n",
              "\\item 'confirmed.population.ratio'\n",
              "\\end{enumerate*}\n"
            ],
            "text/markdown": [
              "1. 'country'\n",
              "2. 'date'\n",
              "3. 'tested'\n",
              "4. 'confirmed'\n",
              "5. 'confirmed.tested.ratio'\n",
              "6. 'tested.population.ratio'\n",
              "7. 'confirmed.population.ratio'\n",
              "\n",
              "\n"
            ],
            "text/plain": [
              "[1] \"country\"                    \"date\"                      \n",
              "[3] \"tested\"                     \"confirmed\"                 \n",
              "[5] \"confirmed.tested.ratio\"     \"tested.population.ratio\"   \n",
              "[7] \"confirmed.population.ratio\""
            ]
          },
          "metadata": {},
          "output_type": "display_data"
        }
      ],
      "source": [
        "colnames(covid_data_frame)"
      ]
    },
    {
      "cell_type": "markdown",
      "metadata": {
        "id": "lGd1_yCo8VIL"
      },
      "source": [
        "After pre-processing, you can see the columns and columns names are simplified, and columns types are converted into correct types.\n"
      ]
    },
    {
      "cell_type": "markdown",
      "metadata": {
        "id": "MTdF_56A8VIO"
      },
      "source": [
        "The data frame has following columns:\n",
        "\n",
        "*   **country** - The name of the country\n",
        "*   **date** - Reported date\n",
        "*   **tested** - Total tested cases by the reported date\n",
        "*   **confirmed** - Total confirmed cases by the reported date\n",
        "*   **confirmed.tested.ratio** - The ratio of confirmed cases to the tested cases\n",
        "*   **tested.population.ratio** - The ratio of tested cases to the population of the country\n",
        "*   **confirmed.population.ratio** - The ratio of confirmed cases to the population of the country\n"
      ]
    },
    {
      "cell_type": "markdown",
      "metadata": {
        "id": "WPF9VJZ98VIO"
      },
      "source": [
        "OK, we can call `write.csv()` function to save the csv file into a file.\n"
      ]
    },
    {
      "cell_type": "code",
      "execution_count": 12,
      "metadata": {
        "id": "ioDJt1hc8VIP"
      },
      "outputs": [],
      "source": [
        "# Export the data frame to a csv file\n",
        "covid = covid_data_frame\n",
        "write.csv(country.table, \"covid.csv\")"
      ]
    },
    {
      "cell_type": "markdown",
      "metadata": {
        "id": "fXj4lyUZ8VIP"
      },
      "source": [
        "Note for IBM Waston Studio, there is no traditional \"hard disk\" associated with a R workspace.\n",
        "\n",
        "Even if you call `write.csv()` method to save the data frame as a csv file, it won't be shown in IBM Cloud Object Storage asset UI automatically.\n",
        "\n",
        "However, you may still check if the `covid.csv` exists using following code snippet:\n"
      ]
    },
    {
      "cell_type": "code",
      "execution_count": 13,
      "metadata": {
        "colab": {
          "base_uri": "https://localhost:8080/",
          "height": 52
        },
        "id": "k5MT1Ybu8VIQ",
        "outputId": "5bb6be2b-52b8-4808-b3e5-246324fa4519"
      },
      "outputs": [
        {
          "output_type": "stream",
          "name": "stdout",
          "text": [
            "[1] \"/content/covid.csv\"\n"
          ]
        },
        {
          "output_type": "display_data",
          "data": {
            "text/html": [
              "TRUE"
            ],
            "text/markdown": "TRUE",
            "text/latex": "TRUE",
            "text/plain": [
              "[1] TRUE"
            ]
          },
          "metadata": {}
        }
      ],
      "source": [
        "# Get working directory\n",
        "wd <- getwd()\n",
        "# Get exported \n",
        "file_path <- paste(wd, sep=\"\", \"/covid.csv\")\n",
        "# File path\n",
        "print(file_path)\n",
        "file.exists(file_path)"
      ]
    },
    {
      "cell_type": "markdown",
      "metadata": {
        "id": "pMGSneFA8VIR"
      },
      "source": [
        "**Optional Step**: If you have difficulties finishing above webscraping tasks, you may still continue with next tasks by downloading a provided csv file from here:\n"
      ]
    },
    {
      "cell_type": "code",
      "execution_count": 14,
      "metadata": {
        "id": "BQn05bw08VIR"
      },
      "outputs": [],
      "source": [
        "## Download a sample csv file\n",
        "covid_csv_file <- download.file(\"https://cf-courses-data.s3.us.cloud-object-storage.appdomain.cloud/IBMDeveloperSkillsNetwork-RP0101EN-Coursera/v2/dataset/covid.csv\", destfile=\"covid.csv\")\n",
        "covid_data_frame_csv <- read.csv(\"covid.csv\", header=TRUE, sep=\",\")"
      ]
    },
    {
      "cell_type": "markdown",
      "metadata": {
        "id": "BG64DRvR8VIS"
      },
      "source": [
        "## TASK 4: Get a subset of the extracted data frame\n",
        "\n",
        "The goal of task 4 is to get the 5th to 10th rows from the data frame with only `country` and `confirmed` columns selected\n"
      ]
    },
    {
      "cell_type": "code",
      "execution_count": 18,
      "metadata": {
        "id": "dysdyTOk8VIS"
      },
      "outputs": [],
      "source": [
        "library(tidyverse)"
      ]
    },
    {
      "cell_type": "code",
      "source": [
        "# Read covid_data_frame_csv from the csv file\n",
        "covid <- as_tibble(covid_data_frame_csv)\n",
        "# Get the 5th to 10th rows, with two \"country\" \"confirmed\" columns\n",
        "#head(covid)\n",
        "covid[5:10,c(\"country\",\"confirmed\" )]"
      ],
      "metadata": {
        "colab": {
          "base_uri": "https://localhost:8080/",
          "height": 286
        },
        "id": "nwLkSnRQ8643",
        "outputId": "d84ce803-6e0e-4eaa-9245-d939bf96e32c"
      },
      "execution_count": 19,
      "outputs": [
        {
          "output_type": "display_data",
          "data": {
            "text/html": [
              "<table class=\"dataframe\">\n",
              "<caption>A tibble: 6 × 2</caption>\n",
              "<thead>\n",
              "\t<tr><th scope=col>country</th><th scope=col>confirmed</th></tr>\n",
              "\t<tr><th scope=col>&lt;chr&gt;</th><th scope=col>&lt;int&gt;</th></tr>\n",
              "</thead>\n",
              "<tbody>\n",
              "\t<tr><td>Angola             </td><td>  20981</td></tr>\n",
              "\t<tr><td>Antigua and Barbuda</td><td>    832</td></tr>\n",
              "\t<tr><td>Argentina          </td><td>2195722</td></tr>\n",
              "\t<tr><td>Armenia            </td><td> 177104</td></tr>\n",
              "\t<tr><td>Australia          </td><td>  29130</td></tr>\n",
              "\t<tr><td>Austria            </td><td> 488007</td></tr>\n",
              "</tbody>\n",
              "</table>\n"
            ],
            "text/markdown": "\nA tibble: 6 × 2\n\n| country &lt;chr&gt; | confirmed &lt;int&gt; |\n|---|---|\n| Angola              |   20981 |\n| Antigua and Barbuda |     832 |\n| Argentina           | 2195722 |\n| Armenia             |  177104 |\n| Australia           |   29130 |\n| Austria             |  488007 |\n\n",
            "text/latex": "A tibble: 6 × 2\n\\begin{tabular}{ll}\n country & confirmed\\\\\n <chr> & <int>\\\\\n\\hline\n\t Angola              &   20981\\\\\n\t Antigua and Barbuda &     832\\\\\n\t Argentina           & 2195722\\\\\n\t Armenia             &  177104\\\\\n\t Australia           &   29130\\\\\n\t Austria             &  488007\\\\\n\\end{tabular}\n",
            "text/plain": [
              "  country             confirmed\n",
              "1 Angola                20981  \n",
              "2 Antigua and Barbuda     832  \n",
              "3 Argentina           2195722  \n",
              "4 Armenia              177104  \n",
              "5 Australia             29130  \n",
              "6 Austria              488007  "
            ]
          },
          "metadata": {}
        }
      ]
    },
    {
      "cell_type": "markdown",
      "metadata": {
        "id": "VBDoQ2RX8VIT"
      },
      "source": [
        "## TASK 5: Calculate worldwide COVID testing positive ratio\n",
        "\n",
        "The goal of task 5 is to get the total confirmed and tested cases worldwide, and try to figure the overall positive ratio using `confirmed cases / tested cases`\n"
      ]
    },
    {
      "cell_type": "code",
      "execution_count": 20,
      "metadata": {
        "colab": {
          "base_uri": "https://localhost:8080/",
          "height": 69
        },
        "id": "vVBxRyc48VIT",
        "outputId": "f71e50de-b18f-43ab-eee1-06fd9fafdf6c"
      },
      "outputs": [
        {
          "output_type": "display_data",
          "data": {
            "text/html": [
              "'total confirmed case: 117313932'"
            ],
            "text/markdown": "'total confirmed case: 117313932'",
            "text/latex": "'total confirmed case: 117313932'",
            "text/plain": [
              "[1] \"total confirmed case: 117313932\""
            ]
          },
          "metadata": {}
        },
        {
          "output_type": "display_data",
          "data": {
            "text/html": [
              "'total tested case: 1698581244'"
            ],
            "text/markdown": "'total tested case: 1698581244'",
            "text/latex": "'total tested case: 1698581244'",
            "text/plain": [
              "[1] \"total tested case: 1698581244\""
            ]
          },
          "metadata": {}
        },
        {
          "output_type": "display_data",
          "data": {
            "text/html": [
              "'positive.ratio: 0.0690658350399164'"
            ],
            "text/markdown": "'positive.ratio: 0.0690658350399164'",
            "text/latex": "'positive.ratio: 0.0690658350399164'",
            "text/plain": [
              "[1] \"positive.ratio: 0.0690658350399164\""
            ]
          },
          "metadata": {}
        }
      ],
      "source": [
        "# Get the total confirmed cases worldwide\n",
        "total.confirmed = sum(covid[\"confirmed\"])\n",
        "paste0(\"total confirmed case: \",total.confirmed)\n",
        "# Get the total tested cases worldwide\n",
        "total.tested = sum(covid[\"tested\"])\n",
        "paste0(\"total tested case: \",total.tested)\n",
        "# Get the positive ratio (confirmed / tested)\n",
        "positive.ratio = total.confirmed/total.tested\n",
        "paste0(\"positive.ratio: \",positive.ratio)"
      ]
    },
    {
      "cell_type": "markdown",
      "metadata": {
        "id": "uagYRpAp8VIU"
      },
      "source": [
        "## TASK 6: Get a country list which reported their testing data\n",
        "\n",
        "The goal of task 6 is to get a catalog or sorted list of countries who have reported their COVID-19 testing data\n"
      ]
    },
    {
      "cell_type": "code",
      "execution_count": 21,
      "metadata": {
        "colab": {
          "base_uri": "https://localhost:8080/",
          "height": 980
        },
        "id": "D_ePMMun8VIU",
        "outputId": "5b39f8ba-264b-47df-d7fb-6e4f26af3628"
      },
      "outputs": [
        {
          "output_type": "display_data",
          "data": {
            "text/html": [
              "<table class=\"dataframe\">\n",
              "<caption>A tibble: 6 × 1</caption>\n",
              "<thead>\n",
              "\t<tr><th scope=col>country</th></tr>\n",
              "\t<tr><th scope=col>&lt;chr&gt;</th></tr>\n",
              "</thead>\n",
              "<tbody>\n",
              "\t<tr><td>Afghanistan        </td></tr>\n",
              "\t<tr><td>Albania            </td></tr>\n",
              "\t<tr><td>Algeria            </td></tr>\n",
              "\t<tr><td>Andorra            </td></tr>\n",
              "\t<tr><td>Angola             </td></tr>\n",
              "\t<tr><td>Antigua and Barbuda</td></tr>\n",
              "</tbody>\n",
              "</table>\n"
            ],
            "text/markdown": "\nA tibble: 6 × 1\n\n| country &lt;chr&gt; |\n|---|\n| Afghanistan         |\n| Albania             |\n| Algeria             |\n| Andorra             |\n| Angola              |\n| Antigua and Barbuda |\n\n",
            "text/latex": "A tibble: 6 × 1\n\\begin{tabular}{l}\n country\\\\\n <chr>\\\\\n\\hline\n\t Afghanistan        \\\\\n\t Albania            \\\\\n\t Algeria            \\\\\n\t Andorra            \\\\\n\t Angola             \\\\\n\t Antigua and Barbuda\\\\\n\\end{tabular}\n",
            "text/plain": [
              "  country            \n",
              "1 Afghanistan        \n",
              "2 Albania            \n",
              "3 Algeria            \n",
              "4 Andorra            \n",
              "5 Angola             \n",
              "6 Antigua and Barbuda"
            ]
          },
          "metadata": {}
        },
        {
          "output_type": "display_data",
          "data": {
            "text/html": [
              "'list'"
            ],
            "text/markdown": "'list'",
            "text/latex": "'list'",
            "text/plain": [
              "[1] \"list\""
            ]
          },
          "metadata": {}
        },
        {
          "output_type": "display_data",
          "data": {
            "text/html": [
              "'c(\"Afghanistan\", \"Albania\", \"Algeria\", \"Andorra\", \"Angola\", \"Antigua and Barbuda\", \"Argentina\", \"Armenia\", \"Australia\", \"Austria\", \"Azerbaijan\", \"Bahamas\", \"Bahrain\", \"Bangladesh\", \"Barbados\", \"Belarus\", \"Belgium\", \"Belize\", \"Benin\", \"Bhutan\", \"Bolivia\", \"Bosnia and Herzegovina\", \"Botswana\", \"Brazil\", \"Brunei\", \"Bulgaria\", \"Burkina Faso\", \"Burundi\", \"Cambodia\", \"Cameroon\", \"Canada\", \"Chad\", \"Chile\", \"China[c]\", \"Colombia\", \"Costa Rica\", \"Croatia\", \"Cuba\", \"Cyprus[d]\", \"Czechia\", \"Denmark[e]\", \"Djibouti\", \\n\"Dominica\", \"Dominican Republic\", \"DR Congo\", \"Ecuador\", \"Egypt\", \"El Salvador\", \"Equatorial Guinea\", \"Estonia\", \"Eswatini\", \"Ethiopia\", \"Faroe Islands\", \"Fiji\", \"Finland\", \"France[f][g]\", \"Gabon\", \"Gambia\", \"Georgia[h]\", \"Germany\", \"Ghana\", \"Greece\", \"Greenland\", \"Grenada\", \"Guatemala\", \"Guinea\", \"Guinea-Bissau\", \"Guyana\", \"Haiti\", \"Honduras\", \"Hungary\", \"Iceland\", \"India\", \"Indonesia\", \"Iran\", \"Iraq\", \"Ireland\", \"Israel\", \"Italy\", \"Ivory Coast\", \"Jamaica\", \"Japan\", \"Jordan\", \"Kazakhstan\", \"Kenya\", \\n\"Kosovo\", \"Kuwait\", \"Kyrgyzstan\", \"Laos\", \"Latvia\", \"Lebanon\", \"Lesotho\", \"Liberia\", \"Libya\", \"Lithuania\", \"Luxembourg[i]\", \"Madagascar\", \"Malawi\", \"Malaysia\", \"Maldives\", \"Mali\", \"Malta\", \"Mauritania\", \"Mauritius\", \"Mexico\", \"Moldova[j]\", \"Mongolia\", \"Montenegro\", \"Morocco\", \"Mozambique\", \"Myanmar\", \"Namibia\", \"Nepal\", \"Netherlands\", \"New Caledonia\", \"New Zealand\", \"Niger\", \"Nigeria\", \"North Korea\", \"North Macedonia\", \"Northern Cyprus[k]\", \"Norway\", \"Oman\", \"Pakistan\", \"Palestine\", \"Panama\", \"Papua New Guinea\", \\n\"Paraguay\", \"Peru\", \"Philippines\", \"Poland\", \"Portugal\", \"Qatar\", \"Romania\", \"Russia\", \"Rwanda\", \"Saint Kitts and Nevis\", \"Saint Lucia\", \"Saint Vincent\", \"San Marino\", \"Saudi Arabia\", \"Senegal\", \"Serbia\", \"Singapore\", \"Slovakia\", \"Slovenia\", \"South Africa\", \"South Korea\", \"South Sudan\", \"Spain\", \"Sri Lanka\", \"Sudan\", \"Sweden\", \"Switzerland[l]\", \"Taiwan[m]\", \"Tanzania\", \"Thailand\", \"Togo\", \"Trinidad and Tobago\", \"Tunisia\", \"Turkey\", \"Uganda\", \"Ukraine\", \"United Arab Emirates\", \"United Kingdom\", \"United States\", \\n\"Uruguay\", \"Uzbekistan\", \"Venezuela\", \"Vietnam\", \"Zambia\", \"Zimbabwe\")'"
            ],
            "text/markdown": "'c(\"Afghanistan\", \"Albania\", \"Algeria\", \"Andorra\", \"Angola\", \"Antigua and Barbuda\", \"Argentina\", \"Armenia\", \"Australia\", \"Austria\", \"Azerbaijan\", \"Bahamas\", \"Bahrain\", \"Bangladesh\", \"Barbados\", \"Belarus\", \"Belgium\", \"Belize\", \"Benin\", \"Bhutan\", \"Bolivia\", \"Bosnia and Herzegovina\", \"Botswana\", \"Brazil\", \"Brunei\", \"Bulgaria\", \"Burkina Faso\", \"Burundi\", \"Cambodia\", \"Cameroon\", \"Canada\", \"Chad\", \"Chile\", \"China[c]\", \"Colombia\", \"Costa Rica\", \"Croatia\", \"Cuba\", \"Cyprus[d]\", \"Czechia\", \"Denmark[e]\", \"Djibouti\", \\n\"Dominica\", \"Dominican Republic\", \"DR Congo\", \"Ecuador\", \"Egypt\", \"El Salvador\", \"Equatorial Guinea\", \"Estonia\", \"Eswatini\", \"Ethiopia\", \"Faroe Islands\", \"Fiji\", \"Finland\", \"France[f][g]\", \"Gabon\", \"Gambia\", \"Georgia[h]\", \"Germany\", \"Ghana\", \"Greece\", \"Greenland\", \"Grenada\", \"Guatemala\", \"Guinea\", \"Guinea-Bissau\", \"Guyana\", \"Haiti\", \"Honduras\", \"Hungary\", \"Iceland\", \"India\", \"Indonesia\", \"Iran\", \"Iraq\", \"Ireland\", \"Israel\", \"Italy\", \"Ivory Coast\", \"Jamaica\", \"Japan\", \"Jordan\", \"Kazakhstan\", \"Kenya\", \\n\"Kosovo\", \"Kuwait\", \"Kyrgyzstan\", \"Laos\", \"Latvia\", \"Lebanon\", \"Lesotho\", \"Liberia\", \"Libya\", \"Lithuania\", \"Luxembourg[i]\", \"Madagascar\", \"Malawi\", \"Malaysia\", \"Maldives\", \"Mali\", \"Malta\", \"Mauritania\", \"Mauritius\", \"Mexico\", \"Moldova[j]\", \"Mongolia\", \"Montenegro\", \"Morocco\", \"Mozambique\", \"Myanmar\", \"Namibia\", \"Nepal\", \"Netherlands\", \"New Caledonia\", \"New Zealand\", \"Niger\", \"Nigeria\", \"North Korea\", \"North Macedonia\", \"Northern Cyprus[k]\", \"Norway\", \"Oman\", \"Pakistan\", \"Palestine\", \"Panama\", \"Papua New Guinea\", \\n\"Paraguay\", \"Peru\", \"Philippines\", \"Poland\", \"Portugal\", \"Qatar\", \"Romania\", \"Russia\", \"Rwanda\", \"Saint Kitts and Nevis\", \"Saint Lucia\", \"Saint Vincent\", \"San Marino\", \"Saudi Arabia\", \"Senegal\", \"Serbia\", \"Singapore\", \"Slovakia\", \"Slovenia\", \"South Africa\", \"South Korea\", \"South Sudan\", \"Spain\", \"Sri Lanka\", \"Sudan\", \"Sweden\", \"Switzerland[l]\", \"Taiwan[m]\", \"Tanzania\", \"Thailand\", \"Togo\", \"Trinidad and Tobago\", \"Tunisia\", \"Turkey\", \"Uganda\", \"Ukraine\", \"United Arab Emirates\", \"United Kingdom\", \"United States\", \\n\"Uruguay\", \"Uzbekistan\", \"Venezuela\", \"Vietnam\", \"Zambia\", \"Zimbabwe\")'",
            "text/latex": "'c(\"Afghanistan\", \"Albania\", \"Algeria\", \"Andorra\", \"Angola\", \"Antigua and Barbuda\", \"Argentina\", \"Armenia\", \"Australia\", \"Austria\", \"Azerbaijan\", \"Bahamas\", \"Bahrain\", \"Bangladesh\", \"Barbados\", \"Belarus\", \"Belgium\", \"Belize\", \"Benin\", \"Bhutan\", \"Bolivia\", \"Bosnia and Herzegovina\", \"Botswana\", \"Brazil\", \"Brunei\", \"Bulgaria\", \"Burkina Faso\", \"Burundi\", \"Cambodia\", \"Cameroon\", \"Canada\", \"Chad\", \"Chile\", \"China{[}c{]}\", \"Colombia\", \"Costa Rica\", \"Croatia\", \"Cuba\", \"Cyprus{[}d{]}\", \"Czechia\", \"Denmark{[}e{]}\", \"Djibouti\", \\textbackslash{}n\"Dominica\", \"Dominican Republic\", \"DR Congo\", \"Ecuador\", \"Egypt\", \"El Salvador\", \"Equatorial Guinea\", \"Estonia\", \"Eswatini\", \"Ethiopia\", \"Faroe Islands\", \"Fiji\", \"Finland\", \"France{[}f{]}{[}g{]}\", \"Gabon\", \"Gambia\", \"Georgia{[}h{]}\", \"Germany\", \"Ghana\", \"Greece\", \"Greenland\", \"Grenada\", \"Guatemala\", \"Guinea\", \"Guinea-Bissau\", \"Guyana\", \"Haiti\", \"Honduras\", \"Hungary\", \"Iceland\", \"India\", \"Indonesia\", \"Iran\", \"Iraq\", \"Ireland\", \"Israel\", \"Italy\", \"Ivory Coast\", \"Jamaica\", \"Japan\", \"Jordan\", \"Kazakhstan\", \"Kenya\", \\textbackslash{}n\"Kosovo\", \"Kuwait\", \"Kyrgyzstan\", \"Laos\", \"Latvia\", \"Lebanon\", \"Lesotho\", \"Liberia\", \"Libya\", \"Lithuania\", \"Luxembourg{[}i{]}\", \"Madagascar\", \"Malawi\", \"Malaysia\", \"Maldives\", \"Mali\", \"Malta\", \"Mauritania\", \"Mauritius\", \"Mexico\", \"Moldova{[}j{]}\", \"Mongolia\", \"Montenegro\", \"Morocco\", \"Mozambique\", \"Myanmar\", \"Namibia\", \"Nepal\", \"Netherlands\", \"New Caledonia\", \"New Zealand\", \"Niger\", \"Nigeria\", \"North Korea\", \"North Macedonia\", \"Northern Cyprus{[}k{]}\", \"Norway\", \"Oman\", \"Pakistan\", \"Palestine\", \"Panama\", \"Papua New Guinea\", \\textbackslash{}n\"Paraguay\", \"Peru\", \"Philippines\", \"Poland\", \"Portugal\", \"Qatar\", \"Romania\", \"Russia\", \"Rwanda\", \"Saint Kitts and Nevis\", \"Saint Lucia\", \"Saint Vincent\", \"San Marino\", \"Saudi Arabia\", \"Senegal\", \"Serbia\", \"Singapore\", \"Slovakia\", \"Slovenia\", \"South Africa\", \"South Korea\", \"South Sudan\", \"Spain\", \"Sri Lanka\", \"Sudan\", \"Sweden\", \"Switzerland{[}l{]}\", \"Taiwan{[}m{]}\", \"Tanzania\", \"Thailand\", \"Togo\", \"Trinidad and Tobago\", \"Tunisia\", \"Turkey\", \"Uganda\", \"Ukraine\", \"United Arab Emirates\", \"United Kingdom\", \"United States\", \\textbackslash{}n\"Uruguay\", \"Uzbekistan\", \"Venezuela\", \"Vietnam\", \"Zambia\", \"Zimbabwe\")'",
            "text/plain": [
              "[1] \"c(\\\"Afghanistan\\\", \\\"Albania\\\", \\\"Algeria\\\", \\\"Andorra\\\", \\\"Angola\\\", \\\"Antigua and Barbuda\\\", \\\"Argentina\\\", \\\"Armenia\\\", \\\"Australia\\\", \\\"Austria\\\", \\\"Azerbaijan\\\", \\\"Bahamas\\\", \\\"Bahrain\\\", \\\"Bangladesh\\\", \\\"Barbados\\\", \\\"Belarus\\\", \\\"Belgium\\\", \\\"Belize\\\", \\\"Benin\\\", \\\"Bhutan\\\", \\\"Bolivia\\\", \\\"Bosnia and Herzegovina\\\", \\\"Botswana\\\", \\\"Brazil\\\", \\\"Brunei\\\", \\\"Bulgaria\\\", \\\"Burkina Faso\\\", \\\"Burundi\\\", \\\"Cambodia\\\", \\\"Cameroon\\\", \\\"Canada\\\", \\\"Chad\\\", \\\"Chile\\\", \\\"China[c]\\\", \\\"Colombia\\\", \\\"Costa Rica\\\", \\\"Croatia\\\", \\\"Cuba\\\", \\\"Cyprus[d]\\\", \\\"Czechia\\\", \\\"Denmark[e]\\\", \\\"Djibouti\\\", \\n\\\"Dominica\\\", \\\"Dominican Republic\\\", \\\"DR Congo\\\", \\\"Ecuador\\\", \\\"Egypt\\\", \\\"El Salvador\\\", \\\"Equatorial Guinea\\\", \\\"Estonia\\\", \\\"Eswatini\\\", \\\"Ethiopia\\\", \\\"Faroe Islands\\\", \\\"Fiji\\\", \\\"Finland\\\", \\\"France[f][g]\\\", \\\"Gabon\\\", \\\"Gambia\\\", \\\"Georgia[h]\\\", \\\"Germany\\\", \\\"Ghana\\\", \\\"Greece\\\", \\\"Greenland\\\", \\\"Grenada\\\", \\\"Guatemala\\\", \\\"Guinea\\\", \\\"Guinea-Bissau\\\", \\\"Guyana\\\", \\\"Haiti\\\", \\\"Honduras\\\", \\\"Hungary\\\", \\\"Iceland\\\", \\\"India\\\", \\\"Indonesia\\\", \\\"Iran\\\", \\\"Iraq\\\", \\\"Ireland\\\", \\\"Israel\\\", \\\"Italy\\\", \\\"Ivory Coast\\\", \\\"Jamaica\\\", \\\"Japan\\\", \\\"Jordan\\\", \\\"Kazakhstan\\\", \\\"Kenya\\\", \\n\\\"Kosovo\\\", \\\"Kuwait\\\", \\\"Kyrgyzstan\\\", \\\"Laos\\\", \\\"Latvia\\\", \\\"Lebanon\\\", \\\"Lesotho\\\", \\\"Liberia\\\", \\\"Libya\\\", \\\"Lithuania\\\", \\\"Luxembourg[i]\\\", \\\"Madagascar\\\", \\\"Malawi\\\", \\\"Malaysia\\\", \\\"Maldives\\\", \\\"Mali\\\", \\\"Malta\\\", \\\"Mauritania\\\", \\\"Mauritius\\\", \\\"Mexico\\\", \\\"Moldova[j]\\\", \\\"Mongolia\\\", \\\"Montenegro\\\", \\\"Morocco\\\", \\\"Mozambique\\\", \\\"Myanmar\\\", \\\"Namibia\\\", \\\"Nepal\\\", \\\"Netherlands\\\", \\\"New Caledonia\\\", \\\"New Zealand\\\", \\\"Niger\\\", \\\"Nigeria\\\", \\\"North Korea\\\", \\\"North Macedonia\\\", \\\"Northern Cyprus[k]\\\", \\\"Norway\\\", \\\"Oman\\\", \\\"Pakistan\\\", \\\"Palestine\\\", \\\"Panama\\\", \\\"Papua New Guinea\\\", \\n\\\"Paraguay\\\", \\\"Peru\\\", \\\"Philippines\\\", \\\"Poland\\\", \\\"Portugal\\\", \\\"Qatar\\\", \\\"Romania\\\", \\\"Russia\\\", \\\"Rwanda\\\", \\\"Saint Kitts and Nevis\\\", \\\"Saint Lucia\\\", \\\"Saint Vincent\\\", \\\"San Marino\\\", \\\"Saudi Arabia\\\", \\\"Senegal\\\", \\\"Serbia\\\", \\\"Singapore\\\", \\\"Slovakia\\\", \\\"Slovenia\\\", \\\"South Africa\\\", \\\"South Korea\\\", \\\"South Sudan\\\", \\\"Spain\\\", \\\"Sri Lanka\\\", \\\"Sudan\\\", \\\"Sweden\\\", \\\"Switzerland[l]\\\", \\\"Taiwan[m]\\\", \\\"Tanzania\\\", \\\"Thailand\\\", \\\"Togo\\\", \\\"Trinidad and Tobago\\\", \\\"Tunisia\\\", \\\"Turkey\\\", \\\"Uganda\\\", \\\"Ukraine\\\", \\\"United Arab Emirates\\\", \\\"United Kingdom\\\", \\\"United States\\\", \\n\\\"Uruguay\\\", \\\"Uzbekistan\\\", \\\"Venezuela\\\", \\\"Vietnam\\\", \\\"Zambia\\\", \\\"Zimbabwe\\\")\""
            ]
          },
          "metadata": {}
        },
        {
          "output_type": "display_data",
          "data": {
            "text/html": [
              "'c(\"Afghanistan\", \"Albania\", \"Algeria\", \"Andorra\", \"Angola\", \"Antigua and Barbuda\", \"Argentina\", \"Armenia\", \"Australia\", \"Austria\", \"Azerbaijan\", \"Bahamas\", \"Bahrain\", \"Bangladesh\", \"Barbados\", \"Belarus\", \"Belgium\", \"Belize\", \"Benin\", \"Bhutan\", \"Bolivia\", \"Bosnia and Herzegovina\", \"Botswana\", \"Brazil\", \"Brunei\", \"Bulgaria\", \"Burkina Faso\", \"Burundi\", \"Cambodia\", \"Cameroon\", \"Canada\", \"Chad\", \"Chile\", \"China[c]\", \"Colombia\", \"Costa Rica\", \"Croatia\", \"Cuba\", \"Cyprus[d]\", \"Czechia\", \"Denmark[e]\", \"Djibouti\", \\n\"Dominica\", \"Dominican Republic\", \"DR Congo\", \"Ecuador\", \"Egypt\", \"El Salvador\", \"Equatorial Guinea\", \"Estonia\", \"Eswatini\", \"Ethiopia\", \"Faroe Islands\", \"Fiji\", \"Finland\", \"France[f][g]\", \"Gabon\", \"Gambia\", \"Georgia[h]\", \"Germany\", \"Ghana\", \"Greece\", \"Greenland\", \"Grenada\", \"Guatemala\", \"Guinea\", \"Guinea-Bissau\", \"Guyana\", \"Haiti\", \"Honduras\", \"Hungary\", \"Iceland\", \"India\", \"Indonesia\", \"Iran\", \"Iraq\", \"Ireland\", \"Israel\", \"Italy\", \"Ivory Coast\", \"Jamaica\", \"Japan\", \"Jordan\", \"Kazakhstan\", \"Kenya\", \\n\"Kosovo\", \"Kuwait\", \"Kyrgyzstan\", \"Laos\", \"Latvia\", \"Lebanon\", \"Lesotho\", \"Liberia\", \"Libya\", \"Lithuania\", \"Luxembourg[i]\", \"Madagascar\", \"Malawi\", \"Malaysia\", \"Maldives\", \"Mali\", \"Malta\", \"Mauritania\", \"Mauritius\", \"Mexico\", \"Moldova[j]\", \"Mongolia\", \"Montenegro\", \"Morocco\", \"Mozambique\", \"Myanmar\", \"Namibia\", \"Nepal\", \"Netherlands\", \"New Caledonia\", \"New Zealand\", \"Niger\", \"Nigeria\", \"North Korea\", \"North Macedonia\", \"Northern Cyprus[k]\", \"Norway\", \"Oman\", \"Pakistan\", \"Palestine\", \"Panama\", \"Papua New Guinea\", \\n\"Paraguay\", \"Peru\", \"Philippines\", \"Poland\", \"Portugal\", \"Qatar\", \"Romania\", \"Russia\", \"Rwanda\", \"Saint Kitts and Nevis\", \"Saint Lucia\", \"Saint Vincent\", \"San Marino\", \"Saudi Arabia\", \"Senegal\", \"Serbia\", \"Singapore\", \"Slovakia\", \"Slovenia\", \"South Africa\", \"South Korea\", \"South Sudan\", \"Spain\", \"Sri Lanka\", \"Sudan\", \"Sweden\", \"Switzerland[l]\", \"Taiwan[m]\", \"Tanzania\", \"Thailand\", \"Togo\", \"Trinidad and Tobago\", \"Tunisia\", \"Turkey\", \"Uganda\", \"Ukraine\", \"United Arab Emirates\", \"United Kingdom\", \"United States\", \\n\"Uruguay\", \"Uzbekistan\", \"Venezuela\", \"Vietnam\", \"Zambia\", \"Zimbabwe\")'"
            ],
            "text/markdown": "'c(\"Afghanistan\", \"Albania\", \"Algeria\", \"Andorra\", \"Angola\", \"Antigua and Barbuda\", \"Argentina\", \"Armenia\", \"Australia\", \"Austria\", \"Azerbaijan\", \"Bahamas\", \"Bahrain\", \"Bangladesh\", \"Barbados\", \"Belarus\", \"Belgium\", \"Belize\", \"Benin\", \"Bhutan\", \"Bolivia\", \"Bosnia and Herzegovina\", \"Botswana\", \"Brazil\", \"Brunei\", \"Bulgaria\", \"Burkina Faso\", \"Burundi\", \"Cambodia\", \"Cameroon\", \"Canada\", \"Chad\", \"Chile\", \"China[c]\", \"Colombia\", \"Costa Rica\", \"Croatia\", \"Cuba\", \"Cyprus[d]\", \"Czechia\", \"Denmark[e]\", \"Djibouti\", \\n\"Dominica\", \"Dominican Republic\", \"DR Congo\", \"Ecuador\", \"Egypt\", \"El Salvador\", \"Equatorial Guinea\", \"Estonia\", \"Eswatini\", \"Ethiopia\", \"Faroe Islands\", \"Fiji\", \"Finland\", \"France[f][g]\", \"Gabon\", \"Gambia\", \"Georgia[h]\", \"Germany\", \"Ghana\", \"Greece\", \"Greenland\", \"Grenada\", \"Guatemala\", \"Guinea\", \"Guinea-Bissau\", \"Guyana\", \"Haiti\", \"Honduras\", \"Hungary\", \"Iceland\", \"India\", \"Indonesia\", \"Iran\", \"Iraq\", \"Ireland\", \"Israel\", \"Italy\", \"Ivory Coast\", \"Jamaica\", \"Japan\", \"Jordan\", \"Kazakhstan\", \"Kenya\", \\n\"Kosovo\", \"Kuwait\", \"Kyrgyzstan\", \"Laos\", \"Latvia\", \"Lebanon\", \"Lesotho\", \"Liberia\", \"Libya\", \"Lithuania\", \"Luxembourg[i]\", \"Madagascar\", \"Malawi\", \"Malaysia\", \"Maldives\", \"Mali\", \"Malta\", \"Mauritania\", \"Mauritius\", \"Mexico\", \"Moldova[j]\", \"Mongolia\", \"Montenegro\", \"Morocco\", \"Mozambique\", \"Myanmar\", \"Namibia\", \"Nepal\", \"Netherlands\", \"New Caledonia\", \"New Zealand\", \"Niger\", \"Nigeria\", \"North Korea\", \"North Macedonia\", \"Northern Cyprus[k]\", \"Norway\", \"Oman\", \"Pakistan\", \"Palestine\", \"Panama\", \"Papua New Guinea\", \\n\"Paraguay\", \"Peru\", \"Philippines\", \"Poland\", \"Portugal\", \"Qatar\", \"Romania\", \"Russia\", \"Rwanda\", \"Saint Kitts and Nevis\", \"Saint Lucia\", \"Saint Vincent\", \"San Marino\", \"Saudi Arabia\", \"Senegal\", \"Serbia\", \"Singapore\", \"Slovakia\", \"Slovenia\", \"South Africa\", \"South Korea\", \"South Sudan\", \"Spain\", \"Sri Lanka\", \"Sudan\", \"Sweden\", \"Switzerland[l]\", \"Taiwan[m]\", \"Tanzania\", \"Thailand\", \"Togo\", \"Trinidad and Tobago\", \"Tunisia\", \"Turkey\", \"Uganda\", \"Ukraine\", \"United Arab Emirates\", \"United Kingdom\", \"United States\", \\n\"Uruguay\", \"Uzbekistan\", \"Venezuela\", \"Vietnam\", \"Zambia\", \"Zimbabwe\")'",
            "text/latex": "'c(\"Afghanistan\", \"Albania\", \"Algeria\", \"Andorra\", \"Angola\", \"Antigua and Barbuda\", \"Argentina\", \"Armenia\", \"Australia\", \"Austria\", \"Azerbaijan\", \"Bahamas\", \"Bahrain\", \"Bangladesh\", \"Barbados\", \"Belarus\", \"Belgium\", \"Belize\", \"Benin\", \"Bhutan\", \"Bolivia\", \"Bosnia and Herzegovina\", \"Botswana\", \"Brazil\", \"Brunei\", \"Bulgaria\", \"Burkina Faso\", \"Burundi\", \"Cambodia\", \"Cameroon\", \"Canada\", \"Chad\", \"Chile\", \"China{[}c{]}\", \"Colombia\", \"Costa Rica\", \"Croatia\", \"Cuba\", \"Cyprus{[}d{]}\", \"Czechia\", \"Denmark{[}e{]}\", \"Djibouti\", \\textbackslash{}n\"Dominica\", \"Dominican Republic\", \"DR Congo\", \"Ecuador\", \"Egypt\", \"El Salvador\", \"Equatorial Guinea\", \"Estonia\", \"Eswatini\", \"Ethiopia\", \"Faroe Islands\", \"Fiji\", \"Finland\", \"France{[}f{]}{[}g{]}\", \"Gabon\", \"Gambia\", \"Georgia{[}h{]}\", \"Germany\", \"Ghana\", \"Greece\", \"Greenland\", \"Grenada\", \"Guatemala\", \"Guinea\", \"Guinea-Bissau\", \"Guyana\", \"Haiti\", \"Honduras\", \"Hungary\", \"Iceland\", \"India\", \"Indonesia\", \"Iran\", \"Iraq\", \"Ireland\", \"Israel\", \"Italy\", \"Ivory Coast\", \"Jamaica\", \"Japan\", \"Jordan\", \"Kazakhstan\", \"Kenya\", \\textbackslash{}n\"Kosovo\", \"Kuwait\", \"Kyrgyzstan\", \"Laos\", \"Latvia\", \"Lebanon\", \"Lesotho\", \"Liberia\", \"Libya\", \"Lithuania\", \"Luxembourg{[}i{]}\", \"Madagascar\", \"Malawi\", \"Malaysia\", \"Maldives\", \"Mali\", \"Malta\", \"Mauritania\", \"Mauritius\", \"Mexico\", \"Moldova{[}j{]}\", \"Mongolia\", \"Montenegro\", \"Morocco\", \"Mozambique\", \"Myanmar\", \"Namibia\", \"Nepal\", \"Netherlands\", \"New Caledonia\", \"New Zealand\", \"Niger\", \"Nigeria\", \"North Korea\", \"North Macedonia\", \"Northern Cyprus{[}k{]}\", \"Norway\", \"Oman\", \"Pakistan\", \"Palestine\", \"Panama\", \"Papua New Guinea\", \\textbackslash{}n\"Paraguay\", \"Peru\", \"Philippines\", \"Poland\", \"Portugal\", \"Qatar\", \"Romania\", \"Russia\", \"Rwanda\", \"Saint Kitts and Nevis\", \"Saint Lucia\", \"Saint Vincent\", \"San Marino\", \"Saudi Arabia\", \"Senegal\", \"Serbia\", \"Singapore\", \"Slovakia\", \"Slovenia\", \"South Africa\", \"South Korea\", \"South Sudan\", \"Spain\", \"Sri Lanka\", \"Sudan\", \"Sweden\", \"Switzerland{[}l{]}\", \"Taiwan{[}m{]}\", \"Tanzania\", \"Thailand\", \"Togo\", \"Trinidad and Tobago\", \"Tunisia\", \"Turkey\", \"Uganda\", \"Ukraine\", \"United Arab Emirates\", \"United Kingdom\", \"United States\", \\textbackslash{}n\"Uruguay\", \"Uzbekistan\", \"Venezuela\", \"Vietnam\", \"Zambia\", \"Zimbabwe\")'",
            "text/plain": [
              "[1] \"c(\\\"Afghanistan\\\", \\\"Albania\\\", \\\"Algeria\\\", \\\"Andorra\\\", \\\"Angola\\\", \\\"Antigua and Barbuda\\\", \\\"Argentina\\\", \\\"Armenia\\\", \\\"Australia\\\", \\\"Austria\\\", \\\"Azerbaijan\\\", \\\"Bahamas\\\", \\\"Bahrain\\\", \\\"Bangladesh\\\", \\\"Barbados\\\", \\\"Belarus\\\", \\\"Belgium\\\", \\\"Belize\\\", \\\"Benin\\\", \\\"Bhutan\\\", \\\"Bolivia\\\", \\\"Bosnia and Herzegovina\\\", \\\"Botswana\\\", \\\"Brazil\\\", \\\"Brunei\\\", \\\"Bulgaria\\\", \\\"Burkina Faso\\\", \\\"Burundi\\\", \\\"Cambodia\\\", \\\"Cameroon\\\", \\\"Canada\\\", \\\"Chad\\\", \\\"Chile\\\", \\\"China[c]\\\", \\\"Colombia\\\", \\\"Costa Rica\\\", \\\"Croatia\\\", \\\"Cuba\\\", \\\"Cyprus[d]\\\", \\\"Czechia\\\", \\\"Denmark[e]\\\", \\\"Djibouti\\\", \\n\\\"Dominica\\\", \\\"Dominican Republic\\\", \\\"DR Congo\\\", \\\"Ecuador\\\", \\\"Egypt\\\", \\\"El Salvador\\\", \\\"Equatorial Guinea\\\", \\\"Estonia\\\", \\\"Eswatini\\\", \\\"Ethiopia\\\", \\\"Faroe Islands\\\", \\\"Fiji\\\", \\\"Finland\\\", \\\"France[f][g]\\\", \\\"Gabon\\\", \\\"Gambia\\\", \\\"Georgia[h]\\\", \\\"Germany\\\", \\\"Ghana\\\", \\\"Greece\\\", \\\"Greenland\\\", \\\"Grenada\\\", \\\"Guatemala\\\", \\\"Guinea\\\", \\\"Guinea-Bissau\\\", \\\"Guyana\\\", \\\"Haiti\\\", \\\"Honduras\\\", \\\"Hungary\\\", \\\"Iceland\\\", \\\"India\\\", \\\"Indonesia\\\", \\\"Iran\\\", \\\"Iraq\\\", \\\"Ireland\\\", \\\"Israel\\\", \\\"Italy\\\", \\\"Ivory Coast\\\", \\\"Jamaica\\\", \\\"Japan\\\", \\\"Jordan\\\", \\\"Kazakhstan\\\", \\\"Kenya\\\", \\n\\\"Kosovo\\\", \\\"Kuwait\\\", \\\"Kyrgyzstan\\\", \\\"Laos\\\", \\\"Latvia\\\", \\\"Lebanon\\\", \\\"Lesotho\\\", \\\"Liberia\\\", \\\"Libya\\\", \\\"Lithuania\\\", \\\"Luxembourg[i]\\\", \\\"Madagascar\\\", \\\"Malawi\\\", \\\"Malaysia\\\", \\\"Maldives\\\", \\\"Mali\\\", \\\"Malta\\\", \\\"Mauritania\\\", \\\"Mauritius\\\", \\\"Mexico\\\", \\\"Moldova[j]\\\", \\\"Mongolia\\\", \\\"Montenegro\\\", \\\"Morocco\\\", \\\"Mozambique\\\", \\\"Myanmar\\\", \\\"Namibia\\\", \\\"Nepal\\\", \\\"Netherlands\\\", \\\"New Caledonia\\\", \\\"New Zealand\\\", \\\"Niger\\\", \\\"Nigeria\\\", \\\"North Korea\\\", \\\"North Macedonia\\\", \\\"Northern Cyprus[k]\\\", \\\"Norway\\\", \\\"Oman\\\", \\\"Pakistan\\\", \\\"Palestine\\\", \\\"Panama\\\", \\\"Papua New Guinea\\\", \\n\\\"Paraguay\\\", \\\"Peru\\\", \\\"Philippines\\\", \\\"Poland\\\", \\\"Portugal\\\", \\\"Qatar\\\", \\\"Romania\\\", \\\"Russia\\\", \\\"Rwanda\\\", \\\"Saint Kitts and Nevis\\\", \\\"Saint Lucia\\\", \\\"Saint Vincent\\\", \\\"San Marino\\\", \\\"Saudi Arabia\\\", \\\"Senegal\\\", \\\"Serbia\\\", \\\"Singapore\\\", \\\"Slovakia\\\", \\\"Slovenia\\\", \\\"South Africa\\\", \\\"South Korea\\\", \\\"South Sudan\\\", \\\"Spain\\\", \\\"Sri Lanka\\\", \\\"Sudan\\\", \\\"Sweden\\\", \\\"Switzerland[l]\\\", \\\"Taiwan[m]\\\", \\\"Tanzania\\\", \\\"Thailand\\\", \\\"Togo\\\", \\\"Trinidad and Tobago\\\", \\\"Tunisia\\\", \\\"Turkey\\\", \\\"Uganda\\\", \\\"Ukraine\\\", \\\"United Arab Emirates\\\", \\\"United Kingdom\\\", \\\"United States\\\", \\n\\\"Uruguay\\\", \\\"Uzbekistan\\\", \\\"Venezuela\\\", \\\"Vietnam\\\", \\\"Zambia\\\", \\\"Zimbabwe\\\")\""
            ]
          },
          "metadata": {}
        },
        {
          "output_type": "display_data",
          "data": {
            "text/html": [
              "'c(\"Afghanistan\", \"Albania\", \"Algeria\", \"Andorra\", \"Angola\", \"Antigua and Barbuda\", \"Argentina\", \"Armenia\", \"Australia\", \"Austria\", \"Azerbaijan\", \"Bahamas\", \"Bahrain\", \"Bangladesh\", \"Barbados\", \"Belarus\", \"Belgium\", \"Belize\", \"Benin\", \"Bhutan\", \"Bolivia\", \"Bosnia and Herzegovina\", \"Botswana\", \"Brazil\", \"Brunei\", \"Bulgaria\", \"Burkina Faso\", \"Burundi\", \"Cambodia\", \"Cameroon\", \"Canada\", \"Chad\", \"Chile\", \"China[c]\", \"Colombia\", \"Costa Rica\", \"Croatia\", \"Cuba\", \"Cyprus[d]\", \"Czechia\", \"Denmark[e]\", \"Djibouti\", \\n\"Dominica\", \"Dominican Republic\", \"DR Congo\", \"Ecuador\", \"Egypt\", \"El Salvador\", \"Equatorial Guinea\", \"Estonia\", \"Eswatini\", \"Ethiopia\", \"Faroe Islands\", \"Fiji\", \"Finland\", \"France[f][g]\", \"Gabon\", \"Gambia\", \"Georgia[h]\", \"Germany\", \"Ghana\", \"Greece\", \"Greenland\", \"Grenada\", \"Guatemala\", \"Guinea\", \"Guinea-Bissau\", \"Guyana\", \"Haiti\", \"Honduras\", \"Hungary\", \"Iceland\", \"India\", \"Indonesia\", \"Iran\", \"Iraq\", \"Ireland\", \"Israel\", \"Italy\", \"Ivory Coast\", \"Jamaica\", \"Japan\", \"Jordan\", \"Kazakhstan\", \"Kenya\", \\n\"Kosovo\", \"Kuwait\", \"Kyrgyzstan\", \"Laos\", \"Latvia\", \"Lebanon\", \"Lesotho\", \"Liberia\", \"Libya\", \"Lithuania\", \"Luxembourg[i]\", \"Madagascar\", \"Malawi\", \"Malaysia\", \"Maldives\", \"Mali\", \"Malta\", \"Mauritania\", \"Mauritius\", \"Mexico\", \"Moldova[j]\", \"Mongolia\", \"Montenegro\", \"Morocco\", \"Mozambique\", \"Myanmar\", \"Namibia\", \"Nepal\", \"Netherlands\", \"New Caledonia\", \"New Zealand\", \"Niger\", \"Nigeria\", \"North Korea\", \"North Macedonia\", \"Northern Cyprus[k]\", \"Norway\", \"Oman\", \"Pakistan\", \"Palestine\", \"Panama\", \"Papua New Guinea\", \\n\"Paraguay\", \"Peru\", \"Philippines\", \"Poland\", \"Portugal\", \"Qatar\", \"Romania\", \"Russia\", \"Rwanda\", \"Saint Kitts and Nevis\", \"Saint Lucia\", \"Saint Vincent\", \"San Marino\", \"Saudi Arabia\", \"Senegal\", \"Serbia\", \"Singapore\", \"Slovakia\", \"Slovenia\", \"South Africa\", \"South Korea\", \"South Sudan\", \"Spain\", \"Sri Lanka\", \"Sudan\", \"Sweden\", \"Switzerland[l]\", \"Taiwan[m]\", \"Tanzania\", \"Thailand\", \"Togo\", \"Trinidad and Tobago\", \"Tunisia\", \"Turkey\", \"Uganda\", \"Ukraine\", \"United Arab Emirates\", \"United Kingdom\", \"United States\", \\n\"Uruguay\", \"Uzbekistan\", \"Venezuela\", \"Vietnam\", \"Zambia\", \"Zimbabwe\")'"
            ],
            "text/markdown": "'c(\"Afghanistan\", \"Albania\", \"Algeria\", \"Andorra\", \"Angola\", \"Antigua and Barbuda\", \"Argentina\", \"Armenia\", \"Australia\", \"Austria\", \"Azerbaijan\", \"Bahamas\", \"Bahrain\", \"Bangladesh\", \"Barbados\", \"Belarus\", \"Belgium\", \"Belize\", \"Benin\", \"Bhutan\", \"Bolivia\", \"Bosnia and Herzegovina\", \"Botswana\", \"Brazil\", \"Brunei\", \"Bulgaria\", \"Burkina Faso\", \"Burundi\", \"Cambodia\", \"Cameroon\", \"Canada\", \"Chad\", \"Chile\", \"China[c]\", \"Colombia\", \"Costa Rica\", \"Croatia\", \"Cuba\", \"Cyprus[d]\", \"Czechia\", \"Denmark[e]\", \"Djibouti\", \\n\"Dominica\", \"Dominican Republic\", \"DR Congo\", \"Ecuador\", \"Egypt\", \"El Salvador\", \"Equatorial Guinea\", \"Estonia\", \"Eswatini\", \"Ethiopia\", \"Faroe Islands\", \"Fiji\", \"Finland\", \"France[f][g]\", \"Gabon\", \"Gambia\", \"Georgia[h]\", \"Germany\", \"Ghana\", \"Greece\", \"Greenland\", \"Grenada\", \"Guatemala\", \"Guinea\", \"Guinea-Bissau\", \"Guyana\", \"Haiti\", \"Honduras\", \"Hungary\", \"Iceland\", \"India\", \"Indonesia\", \"Iran\", \"Iraq\", \"Ireland\", \"Israel\", \"Italy\", \"Ivory Coast\", \"Jamaica\", \"Japan\", \"Jordan\", \"Kazakhstan\", \"Kenya\", \\n\"Kosovo\", \"Kuwait\", \"Kyrgyzstan\", \"Laos\", \"Latvia\", \"Lebanon\", \"Lesotho\", \"Liberia\", \"Libya\", \"Lithuania\", \"Luxembourg[i]\", \"Madagascar\", \"Malawi\", \"Malaysia\", \"Maldives\", \"Mali\", \"Malta\", \"Mauritania\", \"Mauritius\", \"Mexico\", \"Moldova[j]\", \"Mongolia\", \"Montenegro\", \"Morocco\", \"Mozambique\", \"Myanmar\", \"Namibia\", \"Nepal\", \"Netherlands\", \"New Caledonia\", \"New Zealand\", \"Niger\", \"Nigeria\", \"North Korea\", \"North Macedonia\", \"Northern Cyprus[k]\", \"Norway\", \"Oman\", \"Pakistan\", \"Palestine\", \"Panama\", \"Papua New Guinea\", \\n\"Paraguay\", \"Peru\", \"Philippines\", \"Poland\", \"Portugal\", \"Qatar\", \"Romania\", \"Russia\", \"Rwanda\", \"Saint Kitts and Nevis\", \"Saint Lucia\", \"Saint Vincent\", \"San Marino\", \"Saudi Arabia\", \"Senegal\", \"Serbia\", \"Singapore\", \"Slovakia\", \"Slovenia\", \"South Africa\", \"South Korea\", \"South Sudan\", \"Spain\", \"Sri Lanka\", \"Sudan\", \"Sweden\", \"Switzerland[l]\", \"Taiwan[m]\", \"Tanzania\", \"Thailand\", \"Togo\", \"Trinidad and Tobago\", \"Tunisia\", \"Turkey\", \"Uganda\", \"Ukraine\", \"United Arab Emirates\", \"United Kingdom\", \"United States\", \\n\"Uruguay\", \"Uzbekistan\", \"Venezuela\", \"Vietnam\", \"Zambia\", \"Zimbabwe\")'",
            "text/latex": "'c(\"Afghanistan\", \"Albania\", \"Algeria\", \"Andorra\", \"Angola\", \"Antigua and Barbuda\", \"Argentina\", \"Armenia\", \"Australia\", \"Austria\", \"Azerbaijan\", \"Bahamas\", \"Bahrain\", \"Bangladesh\", \"Barbados\", \"Belarus\", \"Belgium\", \"Belize\", \"Benin\", \"Bhutan\", \"Bolivia\", \"Bosnia and Herzegovina\", \"Botswana\", \"Brazil\", \"Brunei\", \"Bulgaria\", \"Burkina Faso\", \"Burundi\", \"Cambodia\", \"Cameroon\", \"Canada\", \"Chad\", \"Chile\", \"China{[}c{]}\", \"Colombia\", \"Costa Rica\", \"Croatia\", \"Cuba\", \"Cyprus{[}d{]}\", \"Czechia\", \"Denmark{[}e{]}\", \"Djibouti\", \\textbackslash{}n\"Dominica\", \"Dominican Republic\", \"DR Congo\", \"Ecuador\", \"Egypt\", \"El Salvador\", \"Equatorial Guinea\", \"Estonia\", \"Eswatini\", \"Ethiopia\", \"Faroe Islands\", \"Fiji\", \"Finland\", \"France{[}f{]}{[}g{]}\", \"Gabon\", \"Gambia\", \"Georgia{[}h{]}\", \"Germany\", \"Ghana\", \"Greece\", \"Greenland\", \"Grenada\", \"Guatemala\", \"Guinea\", \"Guinea-Bissau\", \"Guyana\", \"Haiti\", \"Honduras\", \"Hungary\", \"Iceland\", \"India\", \"Indonesia\", \"Iran\", \"Iraq\", \"Ireland\", \"Israel\", \"Italy\", \"Ivory Coast\", \"Jamaica\", \"Japan\", \"Jordan\", \"Kazakhstan\", \"Kenya\", \\textbackslash{}n\"Kosovo\", \"Kuwait\", \"Kyrgyzstan\", \"Laos\", \"Latvia\", \"Lebanon\", \"Lesotho\", \"Liberia\", \"Libya\", \"Lithuania\", \"Luxembourg{[}i{]}\", \"Madagascar\", \"Malawi\", \"Malaysia\", \"Maldives\", \"Mali\", \"Malta\", \"Mauritania\", \"Mauritius\", \"Mexico\", \"Moldova{[}j{]}\", \"Mongolia\", \"Montenegro\", \"Morocco\", \"Mozambique\", \"Myanmar\", \"Namibia\", \"Nepal\", \"Netherlands\", \"New Caledonia\", \"New Zealand\", \"Niger\", \"Nigeria\", \"North Korea\", \"North Macedonia\", \"Northern Cyprus{[}k{]}\", \"Norway\", \"Oman\", \"Pakistan\", \"Palestine\", \"Panama\", \"Papua New Guinea\", \\textbackslash{}n\"Paraguay\", \"Peru\", \"Philippines\", \"Poland\", \"Portugal\", \"Qatar\", \"Romania\", \"Russia\", \"Rwanda\", \"Saint Kitts and Nevis\", \"Saint Lucia\", \"Saint Vincent\", \"San Marino\", \"Saudi Arabia\", \"Senegal\", \"Serbia\", \"Singapore\", \"Slovakia\", \"Slovenia\", \"South Africa\", \"South Korea\", \"South Sudan\", \"Spain\", \"Sri Lanka\", \"Sudan\", \"Sweden\", \"Switzerland{[}l{]}\", \"Taiwan{[}m{]}\", \"Tanzania\", \"Thailand\", \"Togo\", \"Trinidad and Tobago\", \"Tunisia\", \"Turkey\", \"Uganda\", \"Ukraine\", \"United Arab Emirates\", \"United Kingdom\", \"United States\", \\textbackslash{}n\"Uruguay\", \"Uzbekistan\", \"Venezuela\", \"Vietnam\", \"Zambia\", \"Zimbabwe\")'",
            "text/plain": [
              "[1] \"c(\\\"Afghanistan\\\", \\\"Albania\\\", \\\"Algeria\\\", \\\"Andorra\\\", \\\"Angola\\\", \\\"Antigua and Barbuda\\\", \\\"Argentina\\\", \\\"Armenia\\\", \\\"Australia\\\", \\\"Austria\\\", \\\"Azerbaijan\\\", \\\"Bahamas\\\", \\\"Bahrain\\\", \\\"Bangladesh\\\", \\\"Barbados\\\", \\\"Belarus\\\", \\\"Belgium\\\", \\\"Belize\\\", \\\"Benin\\\", \\\"Bhutan\\\", \\\"Bolivia\\\", \\\"Bosnia and Herzegovina\\\", \\\"Botswana\\\", \\\"Brazil\\\", \\\"Brunei\\\", \\\"Bulgaria\\\", \\\"Burkina Faso\\\", \\\"Burundi\\\", \\\"Cambodia\\\", \\\"Cameroon\\\", \\\"Canada\\\", \\\"Chad\\\", \\\"Chile\\\", \\\"China[c]\\\", \\\"Colombia\\\", \\\"Costa Rica\\\", \\\"Croatia\\\", \\\"Cuba\\\", \\\"Cyprus[d]\\\", \\\"Czechia\\\", \\\"Denmark[e]\\\", \\\"Djibouti\\\", \\n\\\"Dominica\\\", \\\"Dominican Republic\\\", \\\"DR Congo\\\", \\\"Ecuador\\\", \\\"Egypt\\\", \\\"El Salvador\\\", \\\"Equatorial Guinea\\\", \\\"Estonia\\\", \\\"Eswatini\\\", \\\"Ethiopia\\\", \\\"Faroe Islands\\\", \\\"Fiji\\\", \\\"Finland\\\", \\\"France[f][g]\\\", \\\"Gabon\\\", \\\"Gambia\\\", \\\"Georgia[h]\\\", \\\"Germany\\\", \\\"Ghana\\\", \\\"Greece\\\", \\\"Greenland\\\", \\\"Grenada\\\", \\\"Guatemala\\\", \\\"Guinea\\\", \\\"Guinea-Bissau\\\", \\\"Guyana\\\", \\\"Haiti\\\", \\\"Honduras\\\", \\\"Hungary\\\", \\\"Iceland\\\", \\\"India\\\", \\\"Indonesia\\\", \\\"Iran\\\", \\\"Iraq\\\", \\\"Ireland\\\", \\\"Israel\\\", \\\"Italy\\\", \\\"Ivory Coast\\\", \\\"Jamaica\\\", \\\"Japan\\\", \\\"Jordan\\\", \\\"Kazakhstan\\\", \\\"Kenya\\\", \\n\\\"Kosovo\\\", \\\"Kuwait\\\", \\\"Kyrgyzstan\\\", \\\"Laos\\\", \\\"Latvia\\\", \\\"Lebanon\\\", \\\"Lesotho\\\", \\\"Liberia\\\", \\\"Libya\\\", \\\"Lithuania\\\", \\\"Luxembourg[i]\\\", \\\"Madagascar\\\", \\\"Malawi\\\", \\\"Malaysia\\\", \\\"Maldives\\\", \\\"Mali\\\", \\\"Malta\\\", \\\"Mauritania\\\", \\\"Mauritius\\\", \\\"Mexico\\\", \\\"Moldova[j]\\\", \\\"Mongolia\\\", \\\"Montenegro\\\", \\\"Morocco\\\", \\\"Mozambique\\\", \\\"Myanmar\\\", \\\"Namibia\\\", \\\"Nepal\\\", \\\"Netherlands\\\", \\\"New Caledonia\\\", \\\"New Zealand\\\", \\\"Niger\\\", \\\"Nigeria\\\", \\\"North Korea\\\", \\\"North Macedonia\\\", \\\"Northern Cyprus[k]\\\", \\\"Norway\\\", \\\"Oman\\\", \\\"Pakistan\\\", \\\"Palestine\\\", \\\"Panama\\\", \\\"Papua New Guinea\\\", \\n\\\"Paraguay\\\", \\\"Peru\\\", \\\"Philippines\\\", \\\"Poland\\\", \\\"Portugal\\\", \\\"Qatar\\\", \\\"Romania\\\", \\\"Russia\\\", \\\"Rwanda\\\", \\\"Saint Kitts and Nevis\\\", \\\"Saint Lucia\\\", \\\"Saint Vincent\\\", \\\"San Marino\\\", \\\"Saudi Arabia\\\", \\\"Senegal\\\", \\\"Serbia\\\", \\\"Singapore\\\", \\\"Slovakia\\\", \\\"Slovenia\\\", \\\"South Africa\\\", \\\"South Korea\\\", \\\"South Sudan\\\", \\\"Spain\\\", \\\"Sri Lanka\\\", \\\"Sudan\\\", \\\"Sweden\\\", \\\"Switzerland[l]\\\", \\\"Taiwan[m]\\\", \\\"Tanzania\\\", \\\"Thailand\\\", \\\"Togo\\\", \\\"Trinidad and Tobago\\\", \\\"Tunisia\\\", \\\"Turkey\\\", \\\"Uganda\\\", \\\"Ukraine\\\", \\\"United Arab Emirates\\\", \\\"United Kingdom\\\", \\\"United States\\\", \\n\\\"Uruguay\\\", \\\"Uzbekistan\\\", \\\"Venezuela\\\", \\\"Vietnam\\\", \\\"Zambia\\\", \\\"Zimbabwe\\\")\""
            ]
          },
          "metadata": {}
        }
      ],
      "source": [
        "# Get the `country` column\n",
        "head(covid['country'])\n",
        "# Check its class (should be Factor)\n",
        "typeof(covid['country'])\n",
        "# Convert the country column into character so that you can easily sort them\n",
        "as.character(covid['country'])\n",
        "# Sort the countries AtoZ\n",
        "sort(as.character(covid['country']))\n",
        "# Sort the countries ZtoA\n",
        "sort(as.character(covid['country']),decreasing=TRUE)\n",
        "# Print the sorted ZtoA list\n"
      ]
    },
    {
      "cell_type": "markdown",
      "metadata": {
        "id": "89LJqWvv8VIV"
      },
      "source": [
        "## TASK 7: Identify countries names with a specific pattern\n",
        "\n",
        "The goal of task 7 is using a regular expression to find any countires start with `United`\n"
      ]
    },
    {
      "cell_type": "code",
      "execution_count": 22,
      "metadata": {
        "colab": {
          "base_uri": "https://localhost:8080/",
          "height": 242
        },
        "id": "0QcSb_0J8VIW",
        "outputId": "0a751b98-6efe-42e0-cd67-44add4bf5084"
      },
      "outputs": [
        {
          "output_type": "display_data",
          "data": {
            "text/html": [
              "<strong>country:</strong> 'c(\"Afghanistan\", \"Albania\", \"Algeria\", \"Andorra\", \"Angola\", \"Antigua and Barbuda\", \"Argentina\", \"Armenia\", \"Australia\", \"Austria\", \"Azerbaijan\", \"Bahamas\", \"Bahrain\", \"Bangladesh\", \"Barbados\", \"Belarus\", \"Belgium\", \"Belize\", \"Benin\", \"Bhutan\", \"Bolivia\", \"Bosnia and Herzegovina\", \"Botswana\", \"Brazil\", \"Brunei\", \"Bulgaria\", \"Burkina Faso\", \"Burundi\", \"Cambodia\", \"Cameroon\", \"Canada\", \"Chad\", \"Chile\", \"China[c]\", \"Colombia\", \"Costa Rica\", \"Croatia\", \"Cuba\", \"Cyprus[d]\", \"Czechia\", \"Denmark[e]\", \"Djibouti\", \\n\"Dominica\", \"Dominican Republic\", \"DR Congo\", \"Ecuador\", \"Egypt\", \"El Salvador\", \"Equatorial Guinea\", \"Estonia\", \"Eswatini\", \"Ethiopia\", \"Faroe Islands\", \"Fiji\", \"Finland\", \"France[f][g]\", \"Gabon\", \"Gambia\", \"Georgia[h]\", \"Germany\", \"Ghana\", \"Greece\", \"Greenland\", \"Grenada\", \"Guatemala\", \"Guinea\", \"Guinea-Bissau\", \"Guyana\", \"Haiti\", \"Honduras\", \"Hungary\", \"Iceland\", \"India\", \"Indonesia\", \"Iran\", \"Iraq\", \"Ireland\", \"Israel\", \"Italy\", \"Ivory Coast\", \"Jamaica\", \"Japan\", \"Jordan\", \"Kazakhstan\", \"Kenya\", \\n\"Kosovo\", \"Kuwait\", \"Kyrgyzstan\", \"Laos\", \"Latvia\", \"Lebanon\", \"Lesotho\", \"Liberia\", \"Libya\", \"Lithuania\", \"Luxembourg[i]\", \"Madagascar\", \"Malawi\", \"Malaysia\", \"Maldives\", \"Mali\", \"Malta\", \"Mauritania\", \"Mauritius\", \"Mexico\", \"Moldova[j]\", \"Mongolia\", \"Montenegro\", \"Morocco\", \"Mozambique\", \"Myanmar\", \"Namibia\", \"Nepal\", \"Netherlands\", \"New Caledonia\", \"New Zealand\", \"Niger\", \"Nigeria\", \"North Korea\", \"North Macedonia\", \"Northern Cyprus[k]\", \"Norway\", \"Oman\", \"Pakistan\", \"Palestine\", \"Panama\", \"Papua New Guinea\", \\n\"Paraguay\", \"Peru\", \"Philippines\", \"Poland\", \"Portugal\", \"Qatar\", \"Romania\", \"Russia\", \"Rwanda\", \"Saint Kitts and Nevis\", \"Saint Lucia\", \"Saint Vincent\", \"San Marino\", \"Saudi Arabia\", \"Senegal\", \"Serbia\", \"Singapore\", \"Slovakia\", \"Slovenia\", \"South Africa\", \"South Korea\", \"South Sudan\", \"Spain\", \"Sri Lanka\", \"Sudan\", \"Sweden\", \"Switzerland[l]\", \"Taiwan[m]\", \"Tanzania\", \"Thailand\", \"Togo\", \"Trinidad and Tobago\", \"Tunisia\", \"Turkey\", \"Uganda\", \"Ukraine\", \"United Arab Emirates\", \"United Kingdom\", \"United States\", \\n\"Uruguay\", \"Uzbekistan\", \"Venezuela\", \"Vietnam\", \"Zambia\", \"Zimbabwe\")'"
            ],
            "text/markdown": "**country:** 'c(\"Afghanistan\", \"Albania\", \"Algeria\", \"Andorra\", \"Angola\", \"Antigua and Barbuda\", \"Argentina\", \"Armenia\", \"Australia\", \"Austria\", \"Azerbaijan\", \"Bahamas\", \"Bahrain\", \"Bangladesh\", \"Barbados\", \"Belarus\", \"Belgium\", \"Belize\", \"Benin\", \"Bhutan\", \"Bolivia\", \"Bosnia and Herzegovina\", \"Botswana\", \"Brazil\", \"Brunei\", \"Bulgaria\", \"Burkina Faso\", \"Burundi\", \"Cambodia\", \"Cameroon\", \"Canada\", \"Chad\", \"Chile\", \"China[c]\", \"Colombia\", \"Costa Rica\", \"Croatia\", \"Cuba\", \"Cyprus[d]\", \"Czechia\", \"Denmark[e]\", \"Djibouti\", \\n\"Dominica\", \"Dominican Republic\", \"DR Congo\", \"Ecuador\", \"Egypt\", \"El Salvador\", \"Equatorial Guinea\", \"Estonia\", \"Eswatini\", \"Ethiopia\", \"Faroe Islands\", \"Fiji\", \"Finland\", \"France[f][g]\", \"Gabon\", \"Gambia\", \"Georgia[h]\", \"Germany\", \"Ghana\", \"Greece\", \"Greenland\", \"Grenada\", \"Guatemala\", \"Guinea\", \"Guinea-Bissau\", \"Guyana\", \"Haiti\", \"Honduras\", \"Hungary\", \"Iceland\", \"India\", \"Indonesia\", \"Iran\", \"Iraq\", \"Ireland\", \"Israel\", \"Italy\", \"Ivory Coast\", \"Jamaica\", \"Japan\", \"Jordan\", \"Kazakhstan\", \"Kenya\", \\n\"Kosovo\", \"Kuwait\", \"Kyrgyzstan\", \"Laos\", \"Latvia\", \"Lebanon\", \"Lesotho\", \"Liberia\", \"Libya\", \"Lithuania\", \"Luxembourg[i]\", \"Madagascar\", \"Malawi\", \"Malaysia\", \"Maldives\", \"Mali\", \"Malta\", \"Mauritania\", \"Mauritius\", \"Mexico\", \"Moldova[j]\", \"Mongolia\", \"Montenegro\", \"Morocco\", \"Mozambique\", \"Myanmar\", \"Namibia\", \"Nepal\", \"Netherlands\", \"New Caledonia\", \"New Zealand\", \"Niger\", \"Nigeria\", \"North Korea\", \"North Macedonia\", \"Northern Cyprus[k]\", \"Norway\", \"Oman\", \"Pakistan\", \"Palestine\", \"Panama\", \"Papua New Guinea\", \\n\"Paraguay\", \"Peru\", \"Philippines\", \"Poland\", \"Portugal\", \"Qatar\", \"Romania\", \"Russia\", \"Rwanda\", \"Saint Kitts and Nevis\", \"Saint Lucia\", \"Saint Vincent\", \"San Marino\", \"Saudi Arabia\", \"Senegal\", \"Serbia\", \"Singapore\", \"Slovakia\", \"Slovenia\", \"South Africa\", \"South Korea\", \"South Sudan\", \"Spain\", \"Sri Lanka\", \"Sudan\", \"Sweden\", \"Switzerland[l]\", \"Taiwan[m]\", \"Tanzania\", \"Thailand\", \"Togo\", \"Trinidad and Tobago\", \"Tunisia\", \"Turkey\", \"Uganda\", \"Ukraine\", \"United Arab Emirates\", \"United Kingdom\", \"United States\", \\n\"Uruguay\", \"Uzbekistan\", \"Venezuela\", \"Vietnam\", \"Zambia\", \"Zimbabwe\")'",
            "text/latex": "\\textbf{country:} 'c(\"Afghanistan\", \"Albania\", \"Algeria\", \"Andorra\", \"Angola\", \"Antigua and Barbuda\", \"Argentina\", \"Armenia\", \"Australia\", \"Austria\", \"Azerbaijan\", \"Bahamas\", \"Bahrain\", \"Bangladesh\", \"Barbados\", \"Belarus\", \"Belgium\", \"Belize\", \"Benin\", \"Bhutan\", \"Bolivia\", \"Bosnia and Herzegovina\", \"Botswana\", \"Brazil\", \"Brunei\", \"Bulgaria\", \"Burkina Faso\", \"Burundi\", \"Cambodia\", \"Cameroon\", \"Canada\", \"Chad\", \"Chile\", \"China{[}c{]}\", \"Colombia\", \"Costa Rica\", \"Croatia\", \"Cuba\", \"Cyprus{[}d{]}\", \"Czechia\", \"Denmark{[}e{]}\", \"Djibouti\", \\textbackslash{}n\"Dominica\", \"Dominican Republic\", \"DR Congo\", \"Ecuador\", \"Egypt\", \"El Salvador\", \"Equatorial Guinea\", \"Estonia\", \"Eswatini\", \"Ethiopia\", \"Faroe Islands\", \"Fiji\", \"Finland\", \"France{[}f{]}{[}g{]}\", \"Gabon\", \"Gambia\", \"Georgia{[}h{]}\", \"Germany\", \"Ghana\", \"Greece\", \"Greenland\", \"Grenada\", \"Guatemala\", \"Guinea\", \"Guinea-Bissau\", \"Guyana\", \"Haiti\", \"Honduras\", \"Hungary\", \"Iceland\", \"India\", \"Indonesia\", \"Iran\", \"Iraq\", \"Ireland\", \"Israel\", \"Italy\", \"Ivory Coast\", \"Jamaica\", \"Japan\", \"Jordan\", \"Kazakhstan\", \"Kenya\", \\textbackslash{}n\"Kosovo\", \"Kuwait\", \"Kyrgyzstan\", \"Laos\", \"Latvia\", \"Lebanon\", \"Lesotho\", \"Liberia\", \"Libya\", \"Lithuania\", \"Luxembourg{[}i{]}\", \"Madagascar\", \"Malawi\", \"Malaysia\", \"Maldives\", \"Mali\", \"Malta\", \"Mauritania\", \"Mauritius\", \"Mexico\", \"Moldova{[}j{]}\", \"Mongolia\", \"Montenegro\", \"Morocco\", \"Mozambique\", \"Myanmar\", \"Namibia\", \"Nepal\", \"Netherlands\", \"New Caledonia\", \"New Zealand\", \"Niger\", \"Nigeria\", \"North Korea\", \"North Macedonia\", \"Northern Cyprus{[}k{]}\", \"Norway\", \"Oman\", \"Pakistan\", \"Palestine\", \"Panama\", \"Papua New Guinea\", \\textbackslash{}n\"Paraguay\", \"Peru\", \"Philippines\", \"Poland\", \"Portugal\", \"Qatar\", \"Romania\", \"Russia\", \"Rwanda\", \"Saint Kitts and Nevis\", \"Saint Lucia\", \"Saint Vincent\", \"San Marino\", \"Saudi Arabia\", \"Senegal\", \"Serbia\", \"Singapore\", \"Slovakia\", \"Slovenia\", \"South Africa\", \"South Korea\", \"South Sudan\", \"Spain\", \"Sri Lanka\", \"Sudan\", \"Sweden\", \"Switzerland{[}l{]}\", \"Taiwan{[}m{]}\", \"Tanzania\", \"Thailand\", \"Togo\", \"Trinidad and Tobago\", \"Tunisia\", \"Turkey\", \"Uganda\", \"Ukraine\", \"United Arab Emirates\", \"United Kingdom\", \"United States\", \\textbackslash{}n\"Uruguay\", \"Uzbekistan\", \"Venezuela\", \"Vietnam\", \"Zambia\", \"Zimbabwe\")'",
            "text/plain": [
              "                                                                                                                                                                                                                                                                                                                                                                                                                                                                                                                                                                                                                                                                                                                                                                                                                                                                                                                                                                                                                                                                                                                                                                                                                                                                                                                                                                                                                                                                                                                                                                                                                                                                                                                                                                                                                                                                                                                                                                                                                                                                                                                                                                                                                                                                                                                                                                                                                                                                                                                                                                  country \n",
              "\"c(\\\"Afghanistan\\\", \\\"Albania\\\", \\\"Algeria\\\", \\\"Andorra\\\", \\\"Angola\\\", \\\"Antigua and Barbuda\\\", \\\"Argentina\\\", \\\"Armenia\\\", \\\"Australia\\\", \\\"Austria\\\", \\\"Azerbaijan\\\", \\\"Bahamas\\\", \\\"Bahrain\\\", \\\"Bangladesh\\\", \\\"Barbados\\\", \\\"Belarus\\\", \\\"Belgium\\\", \\\"Belize\\\", \\\"Benin\\\", \\\"Bhutan\\\", \\\"Bolivia\\\", \\\"Bosnia and Herzegovina\\\", \\\"Botswana\\\", \\\"Brazil\\\", \\\"Brunei\\\", \\\"Bulgaria\\\", \\\"Burkina Faso\\\", \\\"Burundi\\\", \\\"Cambodia\\\", \\\"Cameroon\\\", \\\"Canada\\\", \\\"Chad\\\", \\\"Chile\\\", \\\"China[c]\\\", \\\"Colombia\\\", \\\"Costa Rica\\\", \\\"Croatia\\\", \\\"Cuba\\\", \\\"Cyprus[d]\\\", \\\"Czechia\\\", \\\"Denmark[e]\\\", \\\"Djibouti\\\", \\n\\\"Dominica\\\", \\\"Dominican Republic\\\", \\\"DR Congo\\\", \\\"Ecuador\\\", \\\"Egypt\\\", \\\"El Salvador\\\", \\\"Equatorial Guinea\\\", \\\"Estonia\\\", \\\"Eswatini\\\", \\\"Ethiopia\\\", \\\"Faroe Islands\\\", \\\"Fiji\\\", \\\"Finland\\\", \\\"France[f][g]\\\", \\\"Gabon\\\", \\\"Gambia\\\", \\\"Georgia[h]\\\", \\\"Germany\\\", \\\"Ghana\\\", \\\"Greece\\\", \\\"Greenland\\\", \\\"Grenada\\\", \\\"Guatemala\\\", \\\"Guinea\\\", \\\"Guinea-Bissau\\\", \\\"Guyana\\\", \\\"Haiti\\\", \\\"Honduras\\\", \\\"Hungary\\\", \\\"Iceland\\\", \\\"India\\\", \\\"Indonesia\\\", \\\"Iran\\\", \\\"Iraq\\\", \\\"Ireland\\\", \\\"Israel\\\", \\\"Italy\\\", \\\"Ivory Coast\\\", \\\"Jamaica\\\", \\\"Japan\\\", \\\"Jordan\\\", \\\"Kazakhstan\\\", \\\"Kenya\\\", \\n\\\"Kosovo\\\", \\\"Kuwait\\\", \\\"Kyrgyzstan\\\", \\\"Laos\\\", \\\"Latvia\\\", \\\"Lebanon\\\", \\\"Lesotho\\\", \\\"Liberia\\\", \\\"Libya\\\", \\\"Lithuania\\\", \\\"Luxembourg[i]\\\", \\\"Madagascar\\\", \\\"Malawi\\\", \\\"Malaysia\\\", \\\"Maldives\\\", \\\"Mali\\\", \\\"Malta\\\", \\\"Mauritania\\\", \\\"Mauritius\\\", \\\"Mexico\\\", \\\"Moldova[j]\\\", \\\"Mongolia\\\", \\\"Montenegro\\\", \\\"Morocco\\\", \\\"Mozambique\\\", \\\"Myanmar\\\", \\\"Namibia\\\", \\\"Nepal\\\", \\\"Netherlands\\\", \\\"New Caledonia\\\", \\\"New Zealand\\\", \\\"Niger\\\", \\\"Nigeria\\\", \\\"North Korea\\\", \\\"North Macedonia\\\", \\\"Northern Cyprus[k]\\\", \\\"Norway\\\", \\\"Oman\\\", \\\"Pakistan\\\", \\\"Palestine\\\", \\\"Panama\\\", \\\"Papua New Guinea\\\", \\n\\\"Paraguay\\\", \\\"Peru\\\", \\\"Philippines\\\", \\\"Poland\\\", \\\"Portugal\\\", \\\"Qatar\\\", \\\"Romania\\\", \\\"Russia\\\", \\\"Rwanda\\\", \\\"Saint Kitts and Nevis\\\", \\\"Saint Lucia\\\", \\\"Saint Vincent\\\", \\\"San Marino\\\", \\\"Saudi Arabia\\\", \\\"Senegal\\\", \\\"Serbia\\\", \\\"Singapore\\\", \\\"Slovakia\\\", \\\"Slovenia\\\", \\\"South Africa\\\", \\\"South Korea\\\", \\\"South Sudan\\\", \\\"Spain\\\", \\\"Sri Lanka\\\", \\\"Sudan\\\", \\\"Sweden\\\", \\\"Switzerland[l]\\\", \\\"Taiwan[m]\\\", \\\"Tanzania\\\", \\\"Thailand\\\", \\\"Togo\\\", \\\"Trinidad and Tobago\\\", \\\"Tunisia\\\", \\\"Turkey\\\", \\\"Uganda\\\", \\\"Ukraine\\\", \\\"United Arab Emirates\\\", \\\"United Kingdom\\\", \\\"United States\\\", \\n\\\"Uruguay\\\", \\\"Uzbekistan\\\", \\\"Venezuela\\\", \\\"Vietnam\\\", \\\"Zambia\\\", \\\"Zimbabwe\\\")\" "
            ]
          },
          "metadata": {}
        }
      ],
      "source": [
        "# Use a regular expression `United.+` to find matches\n",
        "countries <- covid['country']\n",
        "# Print the matched country names\n",
        "names <- grep(\"United.+\",countries,value=TRUE)\n",
        "names"
      ]
    },
    {
      "cell_type": "markdown",
      "metadata": {
        "id": "qlkXNGyV8VIZ"
      },
      "source": [
        "## TASK 8: Pick two countries you are interested, and then review their testing data\n",
        "\n",
        "The goal of task 8 is to compare the COVID-19 test data between two countires, you will need to select two rows from the dataframe, and select `country`, `confirmed`, `confirmed-population-ratio` columns\n"
      ]
    },
    {
      "cell_type": "code",
      "execution_count": 23,
      "metadata": {
        "colab": {
          "base_uri": "https://localhost:8080/",
          "height": 242
        },
        "id": "HNWfF-Bj8VIa",
        "outputId": "5531e8ec-5c47-4777-c545-1aae287201ed"
      },
      "outputs": [
        {
          "output_type": "display_data",
          "data": {
            "text/html": [
              "<table class=\"dataframe\">\n",
              "<caption>A tibble: 1 × 3</caption>\n",
              "<thead>\n",
              "\t<tr><th scope=col>country</th><th scope=col>confirmed</th><th scope=col>confirmed.population.ratio</th></tr>\n",
              "\t<tr><th scope=col>&lt;chr&gt;</th><th scope=col>&lt;int&gt;</th><th scope=col>&lt;dbl&gt;</th></tr>\n",
              "</thead>\n",
              "<tbody>\n",
              "\t<tr><td>United Kingdom</td><td>4248286</td><td>6.3</td></tr>\n",
              "</tbody>\n",
              "</table>\n"
            ],
            "text/markdown": "\nA tibble: 1 × 3\n\n| country &lt;chr&gt; | confirmed &lt;int&gt; | confirmed.population.ratio &lt;dbl&gt; |\n|---|---|---|\n| United Kingdom | 4248286 | 6.3 |\n\n",
            "text/latex": "A tibble: 1 × 3\n\\begin{tabular}{lll}\n country & confirmed & confirmed.population.ratio\\\\\n <chr> & <int> & <dbl>\\\\\n\\hline\n\t United Kingdom & 4248286 & 6.3\\\\\n\\end{tabular}\n",
            "text/plain": [
              "  country        confirmed confirmed.population.ratio\n",
              "1 United Kingdom 4248286   6.3                       "
            ]
          },
          "metadata": {}
        },
        {
          "output_type": "display_data",
          "data": {
            "text/html": [
              "<table class=\"dataframe\">\n",
              "<caption>A tibble: 1 × 3</caption>\n",
              "<thead>\n",
              "\t<tr><th scope=col>country</th><th scope=col>confirmed</th><th scope=col>confirmed.population.ratio</th></tr>\n",
              "\t<tr><th scope=col>&lt;chr&gt;</th><th scope=col>&lt;int&gt;</th><th scope=col>&lt;dbl&gt;</th></tr>\n",
              "</thead>\n",
              "<tbody>\n",
              "\t<tr><td>United States</td><td>29403102</td><td>8.9</td></tr>\n",
              "</tbody>\n",
              "</table>\n"
            ],
            "text/markdown": "\nA tibble: 1 × 3\n\n| country &lt;chr&gt; | confirmed &lt;int&gt; | confirmed.population.ratio &lt;dbl&gt; |\n|---|---|---|\n| United States | 29403102 | 8.9 |\n\n",
            "text/latex": "A tibble: 1 × 3\n\\begin{tabular}{lll}\n country & confirmed & confirmed.population.ratio\\\\\n <chr> & <int> & <dbl>\\\\\n\\hline\n\t United States & 29403102 & 8.9\\\\\n\\end{tabular}\n",
            "text/plain": [
              "  country       confirmed confirmed.population.ratio\n",
              "1 United States 29403102  8.9                       "
            ]
          },
          "metadata": {}
        }
      ],
      "source": [
        "library(tidyverse)\n",
        "country_confirmed_pop.ration <- covid %>% \n",
        "                               select(country, confirmed, confirmed.population.ratio)\n",
        "# Select a subset (should be only one row) of data frame based on a selected country name and columns\n",
        "United_kingdom <- country_confirmed_pop.ration %>%\n",
        "                             filter(country == \"United Kingdom\")\n",
        "United_kingdom[1,]\n",
        "# Select a subset (should be only one row) of data frame based on a selected country name and columns\n",
        "United_States <- country_confirmed_pop.ration %>%\n",
        "                             filter(country == \"United States\")\n",
        "United_States[1,]"
      ]
    },
    {
      "cell_type": "markdown",
      "metadata": {
        "id": "0Qhgo0X-8VIb"
      },
      "source": [
        "## TASK 9: Compare which one of the selected countries has a larger ratio of confirmed cases to population\n",
        "\n",
        "The goal of task 9 is to find out which country you have selected before has larger ratio of confirmed cases to population, which may indicate that country has higher COVID-19 infection risk\n"
      ]
    },
    {
      "cell_type": "code",
      "execution_count": 24,
      "metadata": {
        "colab": {
          "base_uri": "https://localhost:8080/"
        },
        "id": "9qRM4OzN8VIb",
        "outputId": "5278e05d-fdc7-4e98-da83-f4e7e32dc15e"
      },
      "outputs": [
        {
          "output_type": "stream",
          "name": "stdout",
          "text": [
            "[1] \"The confirmed population ratio of Uk is lower than the United States\"\n"
          ]
        }
      ],
      "source": [
        "# Use if-else statement\n",
        "if (United_kingdom[1,3] > United_States[1,3]) {\n",
        "    respond <- \"The confirmed population ratio of Uk is higer than the United States\"\n",
        "    print(respond)\n",
        " } else {\n",
        "    respond <- \"The confirmed population ratio of Uk is lower than the United States\"\n",
        "    print(respond)\n",
        "}\n"
      ]
    },
    {
      "cell_type": "markdown",
      "metadata": {
        "id": "d4zY-bfF8VIc"
      },
      "source": [
        "## TASK 10: Find countries with confirmed to population ratio rate less than a threshold\n",
        "\n",
        "The goal of task 10 is to find out which countries have the confirmed to population ratio less than 1%, it may indicate the risk of those countries are relatively low\n"
      ]
    },
    {
      "cell_type": "code",
      "execution_count": 25,
      "metadata": {
        "colab": {
          "base_uri": "https://localhost:8080/",
          "height": 34
        },
        "id": "KlT4y6CL8VIc",
        "outputId": "b4167e3d-acfd-4056-bff6-77e186cdaa22"
      },
      "outputs": [
        {
          "output_type": "display_data",
          "data": {
            "text/html": [
              "<style>\n",
              ".list-inline {list-style: none; margin:0; padding: 0}\n",
              ".list-inline>li {display: inline-block}\n",
              ".list-inline>li:not(:last-child)::after {content: \"\\00b7\"; padding: 0 .5ex}\n",
              "</style>\n",
              "<ol class=list-inline><li>'country'</li><li>'date'</li><li>'tested'</li><li>'confirmed'</li><li>'confirmed.tested.ratio'</li><li>'tested.population.ratio'</li><li>'confirmed.population.ratio'</li></ol>\n"
            ],
            "text/markdown": "1. 'country'\n2. 'date'\n3. 'tested'\n4. 'confirmed'\n5. 'confirmed.tested.ratio'\n6. 'tested.population.ratio'\n7. 'confirmed.population.ratio'\n\n\n",
            "text/latex": "\\begin{enumerate*}\n\\item 'country'\n\\item 'date'\n\\item 'tested'\n\\item 'confirmed'\n\\item 'confirmed.tested.ratio'\n\\item 'tested.population.ratio'\n\\item 'confirmed.population.ratio'\n\\end{enumerate*}\n",
            "text/plain": [
              "[1] \"country\"                    \"date\"                      \n",
              "[3] \"tested\"                     \"confirmed\"                 \n",
              "[5] \"confirmed.tested.ratio\"     \"tested.population.ratio\"   \n",
              "[7] \"confirmed.population.ratio\""
            ]
          },
          "metadata": {}
        }
      ],
      "source": [
        "colnames(covid)"
      ]
    },
    {
      "cell_type": "code",
      "execution_count": 26,
      "metadata": {
        "id": "r0YHYe7f8VId"
      },
      "outputs": [],
      "source": [
        "# Get a subset of any countries with `confirmed.population.ratio` less than the threshold\n",
        "less_1_percent <- covid %>% filter(confirmed.population.ratio < 1/100)"
      ]
    },
    {
      "cell_type": "code",
      "execution_count": 27,
      "metadata": {
        "colab": {
          "base_uri": "https://localhost:8080/",
          "height": 380
        },
        "id": "36rmvv6z8VId",
        "outputId": "0e8401db-238e-4952-855d-20af2f3c2f5b"
      },
      "outputs": [
        {
          "output_type": "display_data",
          "data": {
            "text/html": [
              "<table class=\"dataframe\">\n",
              "<caption>A tibble: 9 × 7</caption>\n",
              "<thead>\n",
              "\t<tr><th scope=col>country</th><th scope=col>date</th><th scope=col>tested</th><th scope=col>confirmed</th><th scope=col>confirmed.tested.ratio</th><th scope=col>tested.population.ratio</th><th scope=col>confirmed.population.ratio</th></tr>\n",
              "\t<tr><th scope=col>&lt;chr&gt;</th><th scope=col>&lt;chr&gt;</th><th scope=col>&lt;dbl&gt;</th><th scope=col>&lt;int&gt;</th><th scope=col>&lt;dbl&gt;</th><th scope=col>&lt;dbl&gt;</th><th scope=col>&lt;dbl&gt;</th></tr>\n",
              "</thead>\n",
              "<tbody>\n",
              "\t<tr><td>Burundi    </td><td>5 Jan 2021 </td><td>    90019</td><td>  884</td><td> 0.980</td><td> 0.7600</td><td>0.00740</td></tr>\n",
              "\t<tr><td>Cambodia   </td><td>2 Mar 2021 </td><td>   499716</td><td>  844</td><td> 0.170</td><td> 3.1000</td><td>0.00520</td></tr>\n",
              "\t<tr><td>China[c]   </td><td>31 Jul 2020</td><td>160000000</td><td>87655</td><td> 0.055</td><td>11.1000</td><td>0.00610</td></tr>\n",
              "\t<tr><td>Fiji       </td><td>1 Mar 2021 </td><td>    30607</td><td>   59</td><td> 0.190</td><td> 3.4000</td><td>0.00660</td></tr>\n",
              "\t<tr><td>Laos       </td><td>1 Mar 2021 </td><td>   114030</td><td>   45</td><td> 0.039</td><td> 1.6000</td><td>0.00063</td></tr>\n",
              "\t<tr><td>North Korea</td><td>25 Nov 2020</td><td>    16914</td><td>    0</td><td> 0.000</td><td> 0.0660</td><td>0.00000</td></tr>\n",
              "\t<tr><td>Taiwan[m]  </td><td>3 Mar 2021 </td><td>   429603</td><td>  955</td><td> 0.220</td><td> 1.8000</td><td>0.00400</td></tr>\n",
              "\t<tr><td>Tanzania   </td><td>18 Nov 2020</td><td>     3880</td><td>  509</td><td>13.100</td><td> 0.0065</td><td>0.00085</td></tr>\n",
              "\t<tr><td>Vietnam    </td><td>7 Mar 2021 </td><td>  2598753</td><td> 2512</td><td> 0.097</td><td> 2.6000</td><td>0.00250</td></tr>\n",
              "</tbody>\n",
              "</table>\n"
            ],
            "text/markdown": "\nA tibble: 9 × 7\n\n| country &lt;chr&gt; | date &lt;chr&gt; | tested &lt;dbl&gt; | confirmed &lt;int&gt; | confirmed.tested.ratio &lt;dbl&gt; | tested.population.ratio &lt;dbl&gt; | confirmed.population.ratio &lt;dbl&gt; |\n|---|---|---|---|---|---|---|\n| Burundi     | 5 Jan 2021  |     90019 |   884 |  0.980 |  0.7600 | 0.00740 |\n| Cambodia    | 2 Mar 2021  |    499716 |   844 |  0.170 |  3.1000 | 0.00520 |\n| China[c]    | 31 Jul 2020 | 160000000 | 87655 |  0.055 | 11.1000 | 0.00610 |\n| Fiji        | 1 Mar 2021  |     30607 |    59 |  0.190 |  3.4000 | 0.00660 |\n| Laos        | 1 Mar 2021  |    114030 |    45 |  0.039 |  1.6000 | 0.00063 |\n| North Korea | 25 Nov 2020 |     16914 |     0 |  0.000 |  0.0660 | 0.00000 |\n| Taiwan[m]   | 3 Mar 2021  |    429603 |   955 |  0.220 |  1.8000 | 0.00400 |\n| Tanzania    | 18 Nov 2020 |      3880 |   509 | 13.100 |  0.0065 | 0.00085 |\n| Vietnam     | 7 Mar 2021  |   2598753 |  2512 |  0.097 |  2.6000 | 0.00250 |\n\n",
            "text/latex": "A tibble: 9 × 7\n\\begin{tabular}{lllllll}\n country & date & tested & confirmed & confirmed.tested.ratio & tested.population.ratio & confirmed.population.ratio\\\\\n <chr> & <chr> & <dbl> & <int> & <dbl> & <dbl> & <dbl>\\\\\n\\hline\n\t Burundi     & 5 Jan 2021  &     90019 &   884 &  0.980 &  0.7600 & 0.00740\\\\\n\t Cambodia    & 2 Mar 2021  &    499716 &   844 &  0.170 &  3.1000 & 0.00520\\\\\n\t China{[}c{]}    & 31 Jul 2020 & 160000000 & 87655 &  0.055 & 11.1000 & 0.00610\\\\\n\t Fiji        & 1 Mar 2021  &     30607 &    59 &  0.190 &  3.4000 & 0.00660\\\\\n\t Laos        & 1 Mar 2021  &    114030 &    45 &  0.039 &  1.6000 & 0.00063\\\\\n\t North Korea & 25 Nov 2020 &     16914 &     0 &  0.000 &  0.0660 & 0.00000\\\\\n\t Taiwan{[}m{]}   & 3 Mar 2021  &    429603 &   955 &  0.220 &  1.8000 & 0.00400\\\\\n\t Tanzania    & 18 Nov 2020 &      3880 &   509 & 13.100 &  0.0065 & 0.00085\\\\\n\t Vietnam     & 7 Mar 2021  &   2598753 &  2512 &  0.097 &  2.6000 & 0.00250\\\\\n\\end{tabular}\n",
            "text/plain": [
              "  country     date        tested    confirmed confirmed.tested.ratio\n",
              "1 Burundi     5 Jan 2021      90019   884      0.980                \n",
              "2 Cambodia    2 Mar 2021     499716   844      0.170                \n",
              "3 China[c]    31 Jul 2020 160000000 87655      0.055                \n",
              "4 Fiji        1 Mar 2021      30607    59      0.190                \n",
              "5 Laos        1 Mar 2021     114030    45      0.039                \n",
              "6 North Korea 25 Nov 2020     16914     0      0.000                \n",
              "7 Taiwan[m]   3 Mar 2021     429603   955      0.220                \n",
              "8 Tanzania    18 Nov 2020      3880   509     13.100                \n",
              "9 Vietnam     7 Mar 2021    2598753  2512      0.097                \n",
              "  tested.population.ratio confirmed.population.ratio\n",
              "1  0.7600                 0.00740                   \n",
              "2  3.1000                 0.00520                   \n",
              "3 11.1000                 0.00610                   \n",
              "4  3.4000                 0.00660                   \n",
              "5  1.6000                 0.00063                   \n",
              "6  0.0660                 0.00000                   \n",
              "7  1.8000                 0.00400                   \n",
              "8  0.0065                 0.00085                   \n",
              "9  2.6000                 0.00250                   "
            ]
          },
          "metadata": {}
        }
      ],
      "source": [
        "less_1_percent"
      ]
    },
    {
      "cell_type": "code",
      "execution_count": null,
      "metadata": {
        "id": "bPD0WlX18VIe"
      },
      "outputs": [],
      "source": [
        ""
      ]
    }
  ],
  "metadata": {
    "kernelspec": {
      "display_name": "R",
      "language": "R",
      "name": "ir"
    },
    "language_info": {
      "codemirror_mode": "r",
      "file_extension": ".r",
      "mimetype": "text/x-r-source",
      "name": "R",
      "pygments_lexer": "r",
      "version": "4.1.2"
    },
    "colab": {
      "name": "final_jupyter_covid19 .ipynb",
      "provenance": [],
      "toc_visible": true,
      "include_colab_link": true
    }
  },
  "nbformat": 4,
  "nbformat_minor": 0
}